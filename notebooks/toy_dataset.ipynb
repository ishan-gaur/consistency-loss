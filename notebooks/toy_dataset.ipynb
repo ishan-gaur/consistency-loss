{
 "cells": [
  {
   "cell_type": "code",
   "execution_count": 1,
   "id": "2fde7ec5",
   "metadata": {},
   "outputs": [],
   "source": [
    "from tqdm import tqdm\n",
    "\n",
    "import math\n",
    "import random\n",
    "import itertools\n",
    "from functools import lru_cache\n",
    "\n",
    "import torch\n",
    "import numpy as np\n",
    "from scipy.stats import lognorm\n",
    "import matplotlib.pyplot as plt\n",
    "from sklearn.model_selection import train_test_split"
   ]
  },
  {
   "cell_type": "code",
   "execution_count": 2,
   "id": "cd8ee49a",
   "metadata": {},
   "outputs": [
    {
     "data": {
      "text/plain": [
       "'\\nFeatures of the model:\\n- #TODO missing sign epistasis in this construction--because interactions are sampled independently, I might be missing some important correlation structure\\n- Multiple lengths\\n- Epistatic interactions are defined in terms of relative positions of elements in the sequence\\n- This means interaction types are shared but different positions have different interaction types available\\n- Boltzmann distribution for energy\\n- Interactions of upto order 4\\n- Interactions only increase the energy, so that the exponentials in the Boltzmann distribution are bounded\\n'"
      ]
     },
     "execution_count": 2,
     "metadata": {},
     "output_type": "execute_result"
    }
   ],
   "source": [
    "\"\"\"\n",
    "Features of the model:\n",
    "- #TODO missing sign epistasis in this construction--because interactions are sampled independently, I might be missing some important correlation structure\n",
    "- Multiple lengths\n",
    "- Epistatic interactions are defined in terms of relative positions of elements in the sequence\n",
    "- This means interaction types are shared but different positions have different interaction types available\n",
    "- Boltzmann distribution for energy\n",
    "- Interactions of upto order 4\n",
    "- Interactions only increase the energy, so that the exponentials in the Boltzmann distribution are bounded\n",
    "\"\"\""
   ]
  },
  {
   "cell_type": "code",
   "execution_count": 3,
   "id": "99144ded",
   "metadata": {},
   "outputs": [
    {
     "name": "stdout",
     "output_type": "stream",
     "text": [
      "88572 1398100\n"
     ]
    }
   ],
   "source": [
    "L_max = 10 # maximum sequence length\n",
    "A = 3 # alphabet size\n",
    "D_max = 4 # maximum order of interactions\n",
    "N_seq_space = sum([A ** l for l in range(1, L_max + 1)]) # 1 is for the mask state, sum over all lengths less than L\n",
    "N_data = sum([(A + 1) ** l for l in range(1, L_max + 1)]) # 1 is for the mask state, sum over all lengths less than L\n",
    "print(N_seq_space, N_data)"
   ]
  },
  {
   "cell_type": "code",
   "execution_count": 4,
   "id": "532d9bef",
   "metadata": {},
   "outputs": [
    {
     "name": "stdout",
     "output_type": "stream",
     "text": [
      "7860\n"
     ]
    }
   ],
   "source": [
    "# Number of interactions needed\n",
    "# WLOG consider the first position in the d interactors to be at position 0\n",
    "# then there are L_max - 1 choose d - 1 ways to choose the other d - 1 positions\n",
    "# Note a bunch of these terms won't be \"physical\" because the chosen position can be out of bounds for shorter lengths\n",
    "N_interactions = sum([math.comb(L_max - 1, d - 1) * (A ** d) for d in range(1, D_max + 1)])\n",
    "print(N_interactions)"
   ]
  },
  {
   "cell_type": "markdown",
   "id": "fa067fa8",
   "metadata": {},
   "source": [
    "# Calculating Dataset Probabilities"
   ]
  },
  {
   "cell_type": "code",
   "execution_count": 5,
   "id": "a5cf12d0",
   "metadata": {},
   "outputs": [],
   "source": [
    "# Energy function\n",
    "# Interaction energies are deterministic\n",
    "# TODO: should length decrease energy cost? Otherwise, just because there are more possible interactions, longer sequences will be disfavored\n",
    "# Probability of interaction is exponential in the distance between each pair of positions\n",
    "# Interaction contributions are geometrically distributed with support 1, 2, 3, ... with p=0.5 so mean 2\n",
    "# We need to build up the interaction terms and then have a function to compute the energy of a sequence\n",
    "# An easy way to do this is to make a helper function that takes a list of the positions and tokens, and outputting the interaction energy\n",
    "# we can wrap this with a decorator to memoize it, that way it can be stochastic the first time but deterministic later\n",
    "\n",
    "seq_to_str = lambda seq: \",\".join(map(str, seq))\n",
    "str_to_seq = lambda s: list(map(int, s.split(\",\")))\n",
    "\n",
    "@lru_cache(maxsize=None)\n",
    "def interaction(positions, tokens, distance_decay=0.25):\n",
    "    # Sort positions in increasing order and remap tokens accordingly\n",
    "    positions, tokens = str_to_seq(positions), str_to_seq(tokens)\n",
    "    assert len(positions) == len(tokens)\n",
    "    d = len(positions)\n",
    "    sorted_indices = sorted(range(len(positions)), key=lambda k: positions[k])\n",
    "    positions = [positions[i] for i in sorted_indices]\n",
    "    tokens = [tokens[i] for i in sorted_indices]\n",
    "    # interaction strength\n",
    "    interaction_distance = 0\n",
    "    for i in range(d):\n",
    "        for j in range(i + 1, d):\n",
    "            # print(d)\n",
    "            interaction_distance += positions[j] - positions[i]\n",
    "    # interaction occurs with probability equal to strength (capped at 1)\n",
    "    interaction_probability = math.exp(-distance_decay * interaction_distance)\n",
    "    if interaction_probability < random.uniform(0, 1):\n",
    "        return 0 # does into an exponential of the sum of energies so it doesn't change the overall energy \n",
    "    else:\n",
    "        # if it is a vertex energy, we want the mean to be 1 not 2 since they are guaranteed to occur\n",
    "        energy_cost = int(d > 1) + torch.distributions.geometric.Geometric(probs=0.5).sample().float()\n",
    "        return energy_cost\n",
    "\n",
    "@lru_cache(maxsize=None)\n",
    "def unnorm_log_prob(sequence, temperature=1.0, length_scale=5.0):\n",
    "    # sequence is a list of integers in 0, ..., A-1\n",
    "    sequence = str_to_seq(sequence)\n",
    "    energy = 0\n",
    "    for i in range(len(sequence)):\n",
    "        for d in range(1, D_max + 1):\n",
    "            if i + d <= len(sequence):\n",
    "                # anchored at i so need to choose the other d - 1 positions\n",
    "                for positions in itertools.combinations(range(i + 1, len(sequence)), d - 1):\n",
    "                    positions = (i,) + positions\n",
    "                    tokens = [sequence[p] for p in positions]\n",
    "                    energy += interaction(seq_to_str(positions), seq_to_str(tokens))\n",
    "    energy += length_scale * (L_max - len(sequence)) # correct a bit for length bias\n",
    "    return -energy / temperature\n",
    "\n",
    "\n",
    "@lru_cache(maxsize=None)\n",
    "def partition_fn(temperature=1.0):\n",
    "    # Compute the partition function Z = sum_{all sequences} exp(unnorm_log_prob)\n",
    "    # Use log-sum-exp trick for numerical stability\n",
    "    log_probs = []\n",
    "    seqs = []\n",
    "    for l in range(1, L_max + 1):\n",
    "        for seq in tqdm(itertools.product(range(A), repeat=l), total=A**l, desc=f'Length {l}'):\n",
    "            log_probs.append(unnorm_log_prob(seq_to_str(seq), temperature))\n",
    "            seqs.append(seq)\n",
    "    # log-sum-exp\n",
    "    max_log_prob = max(log_probs)\n",
    "    sum_exp = sum(math.exp(lp - max_log_prob) for lp in log_probs)\n",
    "    Z = math.exp(max_log_prob) * sum_exp\n",
    "    return Z, log_probs, seqs\n",
    "\n",
    "@lru_cache(maxsize=None)\n",
    "def prob(sequence, temperature=1.0):\n",
    "    Z, log_probs, seqs = partition_fn(temperature)\n",
    "    return unnorm_log_prob(sequence, temperature) / Z\n"
   ]
  },
  {
   "cell_type": "code",
   "execution_count": 6,
   "id": "4ce1aa05",
   "metadata": {},
   "outputs": [
    {
     "data": {
      "image/png": "[encoded data removed]",
      "text/plain": [
       "<Figure size 640x480 with 1 Axes>"
      ]
     },
     "metadata": {},
     "output_type": "display_data"
    }
   ],
   "source": [
    "# Plot the histogram of interaction probabilities\n",
    "distance_decay = 0.25\n",
    "for d in range(1, D_max + 1):\n",
    "    interaction_costs = []\n",
    "    expected_interactions = 0\n",
    "    for positions in itertools.combinations(range(L_max - 1), d - 1):\n",
    "        positions = (0,) + positions\n",
    "        interaction_distance = 0\n",
    "        for i in range(d):\n",
    "            for j in range(i + 1, d):\n",
    "                interaction_distance += positions[j] - positions[i]\n",
    "        interaction_cost = -distance_decay * interaction_distance\n",
    "        interaction_costs.append(interaction_cost)\n",
    "        interaction_probability = math.exp(interaction_cost)\n",
    "        expected_interactions += interaction_probability * (A ** d)\n",
    "    plt.hist(interaction_costs, bins=50, alpha=0.5, label=f'd={d}, <E>={expected_interactions:.2f}', density=True, log=True)\n",
    "plt.xlabel('Log Interaction Probability')\n",
    "plt.ylabel('Log Frequency')\n",
    "plt.legend()\n",
    "plt.show()"
   ]
  },
  {
   "cell_type": "code",
   "execution_count": 7,
   "id": "ab28597c",
   "metadata": {},
   "outputs": [
    {
     "name": "stderr",
     "output_type": "stream",
     "text": [
      "Length 1: 100%|██████████| 3/3 [00:00<00:00, 114.28it/s]\n",
      "Length 2: 100%|██████████| 9/9 [00:00<00:00, 7912.12it/s]\n",
      "Length 3: 100%|██████████| 27/27 [00:00<00:00, 7527.17it/s]\n",
      "Length 4: 100%|██████████| 81/81 [00:00<00:00, 8327.34it/s]\n",
      "Length 5: 100%|██████████| 243/243 [00:00<00:00, 7291.47it/s]\n",
      "Length 6: 100%|██████████| 729/729 [00:00<00:00, 4999.87it/s]\n",
      "Length 7: 100%|██████████| 2187/2187 [00:00<00:00, 3154.57it/s]\n",
      "Length 8: 100%|██████████| 6561/6561 [00:03<00:00, 1893.45it/s]\n",
      "Length 9: 100%|██████████| 19683/19683 [00:16<00:00, 1204.56it/s]\n",
      "Length 10: 100%|██████████| 59049/59049 [01:14<00:00, 790.60it/s]\n"
     ]
    },
    {
     "data": {
      "image/png": "[encoded data removed]",
      "text/plain": [
       "<Figure size 640x480 with 1 Axes>"
      ]
     },
     "metadata": {},
     "output_type": "display_data"
    }
   ],
   "source": [
    "Z, log_probs, seqs = partition_fn(temperature=1.0)\n",
    "energies = [math.exp(-lp) for lp in log_probs]\n",
    "log_energies = [-lp for lp in log_probs]\n",
    "plt.hist(log_energies, bins=100, log=True, density=True)\n",
    "plt.xlabel('Log Energy')\n",
    "plt.ylabel('Log Frequency')\n",
    "plt.title('Histogram of Sequence Energies (log-log)')\n",
    "plt.show()"
   ]
  },
  {
   "cell_type": "code",
   "execution_count": 8,
   "id": "cfce3947",
   "metadata": {},
   "outputs": [
    {
     "data": {
      "image/png": "[encoded data removed]",
      "text/plain": [
       "<Figure size 640x480 with 1 Axes>"
      ]
     },
     "metadata": {},
     "output_type": "display_data"
    }
   ],
   "source": [
    "probs = np.exp(np.array(log_probs) - np.max(log_probs)) / np.sum(np.exp(np.array(log_probs) - np.max(log_probs)))\n",
    "lengths = [len(seq) for seq in seqs]\n",
    "prob_mass_by_length = [np.sum(probs[np.array(lengths) == l]) for l in range(1, max(lengths) + 1)]\n",
    "plt.plot(range(1, max(lengths) + 1), prob_mass_by_length, marker='o')\n",
    "plt.yscale('log')\n",
    "plt.xlabel('Sequence Length')\n",
    "plt.ylabel('Total Probability Mass (log scale)')\n",
    "plt.title('Probability Mass by Sequence Length')\n",
    "plt.show()"
   ]
  },
  {
   "cell_type": "code",
   "execution_count": 9,
   "id": "a2885848",
   "metadata": {},
   "outputs": [
    {
     "data": {
      "image/png": "[encoded data removed]",
      "text/plain": [
       "<Figure size 640x480 with 1 Axes>"
      ]
     },
     "metadata": {},
     "output_type": "display_data"
    }
   ],
   "source": [
    "# Plot histograms of probabilities by sequence length\n",
    "for l in range(1, max(lengths) + 1):\n",
    "    plt.hist(probs[np.array(lengths) == l], bins=50, alpha=0.6, label=f'Length {l}', density=True, log=True)\n",
    "plt.xlabel('Probability')\n",
    "plt.ylabel('Log Frequency')\n",
    "plt.title('Histogram of Sequence Probabilities by Length')\n",
    "plt.legend()\n",
    "plt.show()"
   ]
  },
  {
   "cell_type": "code",
   "execution_count": 10,
   "id": "04242616",
   "metadata": {},
   "outputs": [
    {
     "data": {
      "image/png": "[encoded data removed]",
      "text/plain": [
       "<Figure size 640x480 with 1 Axes>"
      ]
     },
     "metadata": {},
     "output_type": "display_data"
    }
   ],
   "source": [
    "lognormal = lognorm(s=1.0, scale=np.exp(0))  # mean=0, sigma=1\n",
    "x = np.linspace(0.01, 10, 1000)\n",
    "pdf_lognormal = lognormal.pdf(x)\n",
    "plt.semilogx(10 * x, np.log(pdf_lognormal))\n",
    "plt.xlabel('x (log scale)')\n",
    "plt.ylabel('Log PDF')\n",
    "plt.title('Log PDF of Log-Normal Distribution')\n",
    "plt.show()"
   ]
  },
  {
   "cell_type": "markdown",
   "id": "17469b70",
   "metadata": {},
   "source": [
    "# Model"
   ]
  },
  {
   "cell_type": "code",
   "execution_count": 11,
   "id": "aa7d5455",
   "metadata": {},
   "outputs": [],
   "source": [
    "from torch import nn\n",
    "import torch.nn.functional as F\n",
    "class sequence_model(nn.Module):\n",
    "    def __init__(self, L_max, A, D_max, d_model=64, n_head=4, n_layers=2):\n",
    "        super(sequence_model, self).__init__()\n",
    "        self.embedding = nn.Embedding(A + 1, d_model)\n",
    "        self.n_layers = n_layers\n",
    "        self.n_head = n_head\n",
    "        self.d_model = d_model\n",
    "        self.head_dim = d_model // n_head\n",
    "        self.layers = nn.ModuleList([\n",
    "            nn.ModuleDict({\n",
    "                'self_attn_q': nn.Linear(d_model, d_model),\n",
    "                'self_attn_k': nn.Linear(d_model, d_model),\n",
    "                'self_attn_v': nn.Linear(d_model, d_model),\n",
    "                'self_attn_out': nn.Linear(d_model, d_model),\n",
    "                'ffn1': nn.Linear(d_model, d_model),\n",
    "                'ffn2': nn.Linear(d_model, d_model),\n",
    "                'norm1': nn.LayerNorm(d_model),\n",
    "                'norm2': nn.LayerNorm(d_model)\n",
    "            }) for _ in range(n_layers)\n",
    "        ])\n",
    "        self.fc = nn.Linear(d_model, A)\n",
    "\n",
    "    def forward(self, x):\n",
    "        x_embed = self.embedding(x)\n",
    "        seq_len = x_embed.size(1)\n",
    "        mask = torch.triu(torch.ones(seq_len, seq_len, device=x.device), diagonal=1).bool()\n",
    "        out = x_embed\n",
    "        for layer in self.layers:\n",
    "            # Multi-head self-attention\n",
    "            q = layer['self_attn_q'](out)\n",
    "            k = layer['self_attn_k'](out)\n",
    "            v = layer['self_attn_v'](out)\n",
    "            # [batch, seq, d_model] -> [batch, seq, n_head, head_dim]\n",
    "            def split_heads(t):\n",
    "                return t.view(t.size(0), t.size(1), self.n_head, self.head_dim).transpose(1, 2)\n",
    "            qh, kh, vh = split_heads(q), split_heads(k), split_heads(v)\n",
    "            # Attention scores\n",
    "            attn_scores = torch.matmul(qh, kh.transpose(-2, -1)) / math.sqrt(self.head_dim)\n",
    "            attn_scores = attn_scores.masked_fill(mask.unsqueeze(0).unsqueeze(1), float('-inf'))\n",
    "            attn_weights = torch.softmax(attn_scores, dim=-1)\n",
    "            attn_out = torch.matmul(attn_weights, vh)\n",
    "            # Merge heads\n",
    "            attn_out = attn_out.transpose(1, 2).contiguous().view(out.size(0), seq_len, self.d_model)\n",
    "            attn_out = layer['self_attn_out'](attn_out)\n",
    "            out = layer['norm1'](out + attn_out)\n",
    "            # Feedforward\n",
    "            ff = layer['ffn2'](torch.relu(layer['ffn1'](out)))\n",
    "            out = layer['norm2'](out + ff)\n",
    "        logits = self.fc(out)\n",
    "        logits = F.log_softmax(logits, dim=-1)\n",
    "        return logits\n"
   ]
  },
  {
   "cell_type": "code",
   "execution_count": 12,
   "id": "3b26a490",
   "metadata": {},
   "outputs": [
    {
     "name": "stdout",
     "output_type": "stream",
     "text": [
      "88572 88572\n"
     ]
    }
   ],
   "source": [
    "print(N_seq_space, len(np.array(energies)))"
   ]
  },
  {
   "cell_type": "code",
   "execution_count": 13,
   "id": "167b727d",
   "metadata": {},
   "outputs": [],
   "source": [
    "device = torch.device('cuda' if torch.cuda.is_available() else 'cpu')\n",
    "N_dataset = 1000\n",
    "N_mask = 10\n",
    "\n",
    "# Split indices for train/val\n",
    "train_indices, val_indices = train_test_split(np.arange(N_seq_space), test_size=0.2, random_state=42, stratify=[len(seq) for seq in seqs])\n",
    "\n",
    "# Sample sequences for train/val using probs\n",
    "train_sample_indices = np.random.choice(train_indices, size=(N_dataset,), replace=True, p=probs[train_indices]/probs[train_indices].sum())\n",
    "val_sample_indices = np.random.choice(val_indices, size=(N_dataset // 5,), replace=True, p=probs[val_indices]/probs[val_indices].sum())\n",
    "\n",
    "train_dataset = [seqs[i] for i in train_sample_indices]\n",
    "val_dataset = [seqs[i] for i in val_sample_indices]\n",
    "\n",
    "def make_masked_dataset(dataset, L_max, A, N_mask):\n",
    "    datasets_by_length = [[] for _ in range(L_max)]\n",
    "    for seq in dataset:\n",
    "        for _ in range(N_mask):\n",
    "            n_masked = np.random.randint(1, len(seq) + 1)\n",
    "            masked_positions = np.random.choice(len(seq), size=n_masked, replace=False)\n",
    "            masked_seq = [A if i in masked_positions else seq[i] for i in range(len(seq))]\n",
    "            datasets_by_length[len(seq) - 1].append(masked_seq)\n",
    "    return [torch.tensor(d, dtype=torch.long).to(device) for d in datasets_by_length if len(d) > 0]\n",
    "\n",
    "train_datasets_by_length = make_masked_dataset(train_dataset, L_max, A, N_mask)\n",
    "val_datasets_by_length = make_masked_dataset(val_dataset, L_max, A, N_mask)\n",
    "\n",
    "train_dataset_lengths = [len(d) for d in train_datasets_by_length]\n",
    "val_dataset_lengths = [len(d) for d in val_datasets_by_length]"
   ]
  },
  {
   "cell_type": "code",
   "execution_count": 14,
   "id": "37351252",
   "metadata": {},
   "outputs": [
    {
     "name": "stdout",
     "output_type": "stream",
     "text": [
      "3170 [10, 480, 330, 190, 970, 2810, 4430, 420, 360]\n"
     ]
    }
   ],
   "source": [
    "batch_size = 32\n",
    "epochs = 10\n",
    "N_iterations = sum([len(d) // batch_size + int(len(d) % batch_size > 0) for d in train_datasets_by_length]) * epochs\n",
    "print(N_iterations, train_dataset_lengths)"
   ]
  },
  {
   "cell_type": "code",
   "execution_count": 15,
   "id": "02aa61d9",
   "metadata": {},
   "outputs": [],
   "source": [
    "model = sequence_model(L_max, A, D_max).to(device)\n",
    "optimizer = torch.optim.Adam(model.parameters(), lr=1e-3)\n",
    "loss_fn = nn.NLLLoss(ignore_index=A)"
   ]
  },
  {
   "cell_type": "code",
   "execution_count": 16,
   "id": "867745af",
   "metadata": {},
   "outputs": [
    {
     "name": "stderr",
     "output_type": "stream",
     "text": [
      "Training:   1%|          | 17/3170 [00:00<00:58, 54.34it/s]"
     ]
    },
    {
     "name": "stdout",
     "output_type": "stream",
     "text": [
      "Step 0: train loss = 1.3227, val loss = 0.9153\n"
     ]
    },
    {
     "name": "stderr",
     "output_type": "stream",
     "text": [
      "Training:   4%|▍         | 122/3170 [00:01<00:22, 137.99it/s]"
     ]
    },
    {
     "name": "stdout",
     "output_type": "stream",
     "text": [
      "Step 100: train loss = 0.0032, val loss = 0.0033\n"
     ]
    },
    {
     "name": "stderr",
     "output_type": "stream",
     "text": [
      "Training:   7%|▋         | 228/3170 [00:01<00:20, 144.60it/s]"
     ]
    },
    {
     "name": "stdout",
     "output_type": "stream",
     "text": [
      "Step 200: train loss = 0.0016, val loss = 0.0017\n"
     ]
    },
    {
     "name": "stderr",
     "output_type": "stream",
     "text": [
      "Training:  10%|█         | 318/3170 [00:02<00:19, 144.38it/s]"
     ]
    },
    {
     "name": "stdout",
     "output_type": "stream",
     "text": [
      "Step 300: train loss = 0.0010, val loss = 0.0010\n"
     ]
    },
    {
     "name": "stderr",
     "output_type": "stream",
     "text": [
      "Training:  13%|█▎        | 423/3170 [00:03<00:19, 144.52it/s]"
     ]
    },
    {
     "name": "stdout",
     "output_type": "stream",
     "text": [
      "Step 400: train loss = 0.0006, val loss = 0.0006\n"
     ]
    },
    {
     "name": "stderr",
     "output_type": "stream",
     "text": [
      "Training:  17%|█▋        | 528/3170 [00:03<00:18, 143.94it/s]"
     ]
    },
    {
     "name": "stdout",
     "output_type": "stream",
     "text": [
      "Step 500: train loss = 0.0004, val loss = 0.0005\n"
     ]
    },
    {
     "name": "stderr",
     "output_type": "stream",
     "text": [
      "Training:  19%|█▉        | 618/3170 [00:04<00:17, 144.48it/s]"
     ]
    },
    {
     "name": "stdout",
     "output_type": "stream",
     "text": [
      "Step 600: train loss = 0.0003, val loss = 0.0003\n"
     ]
    },
    {
     "name": "stderr",
     "output_type": "stream",
     "text": [
      "Training:  23%|██▎       | 723/3170 [00:05<00:16, 144.67it/s]"
     ]
    },
    {
     "name": "stdout",
     "output_type": "stream",
     "text": [
      "Step 700: train loss = 0.0002, val loss = 0.0003\n"
     ]
    },
    {
     "name": "stderr",
     "output_type": "stream",
     "text": [
      "Training:  26%|██▌       | 828/3170 [00:05<00:16, 144.46it/s]"
     ]
    },
    {
     "name": "stdout",
     "output_type": "stream",
     "text": [
      "Step 800: train loss = 0.0002, val loss = 0.0002\n"
     ]
    },
    {
     "name": "stderr",
     "output_type": "stream",
     "text": [
      "Training:  29%|██▉       | 918/3170 [00:06<00:15, 144.55it/s]"
     ]
    },
    {
     "name": "stdout",
     "output_type": "stream",
     "text": [
      "Step 900: train loss = 0.0002, val loss = 0.0002\n"
     ]
    },
    {
     "name": "stderr",
     "output_type": "stream",
     "text": [
      "Training:  32%|███▏      | 1023/3170 [00:07<00:14, 144.70it/s]"
     ]
    },
    {
     "name": "stdout",
     "output_type": "stream",
     "text": [
      "Step 1000: train loss = 0.0001, val loss = 0.0001\n"
     ]
    },
    {
     "name": "stderr",
     "output_type": "stream",
     "text": [
      "Training:  36%|███▌      | 1128/3170 [00:08<00:14, 144.63it/s]"
     ]
    },
    {
     "name": "stdout",
     "output_type": "stream",
     "text": [
      "Step 1100: train loss = 0.0001, val loss = 0.0001\n"
     ]
    },
    {
     "name": "stderr",
     "output_type": "stream",
     "text": [
      "Training:  38%|███▊      | 1218/3170 [00:08<00:13, 144.16it/s]"
     ]
    },
    {
     "name": "stdout",
     "output_type": "stream",
     "text": [
      "Step 1200: train loss = 0.0001, val loss = 0.0001\n"
     ]
    },
    {
     "name": "stderr",
     "output_type": "stream",
     "text": [
      "Training:  42%|████▏     | 1323/3170 [00:09<00:12, 143.87it/s]"
     ]
    },
    {
     "name": "stdout",
     "output_type": "stream",
     "text": [
      "Step 1300: train loss = 0.0001, val loss = 0.0001\n"
     ]
    },
    {
     "name": "stderr",
     "output_type": "stream",
     "text": [
      "Training:  45%|████▌     | 1428/3170 [00:10<00:12, 144.49it/s]"
     ]
    },
    {
     "name": "stdout",
     "output_type": "stream",
     "text": [
      "Step 1400: train loss = 0.0001, val loss = 0.0001\n"
     ]
    },
    {
     "name": "stderr",
     "output_type": "stream",
     "text": [
      "Training:  48%|████▊     | 1519/3170 [00:10<00:11, 145.21it/s]"
     ]
    },
    {
     "name": "stdout",
     "output_type": "stream",
     "text": [
      "Step 1500: train loss = 0.0001, val loss = 0.0001\n"
     ]
    },
    {
     "name": "stderr",
     "output_type": "stream",
     "text": [
      "Training:  51%|█████     | 1624/3170 [00:11<00:10, 144.44it/s]"
     ]
    },
    {
     "name": "stdout",
     "output_type": "stream",
     "text": [
      "Step 1600: train loss = 0.0000, val loss = 0.0001\n"
     ]
    },
    {
     "name": "stderr",
     "output_type": "stream",
     "text": [
      "Training:  55%|█████▍    | 1729/3170 [00:12<00:09, 144.51it/s]"
     ]
    },
    {
     "name": "stdout",
     "output_type": "stream",
     "text": [
      "Step 1700: train loss = 0.0000, val loss = 0.0000\n"
     ]
    },
    {
     "name": "stderr",
     "output_type": "stream",
     "text": [
      "Training:  57%|█████▋    | 1819/3170 [00:12<00:09, 144.50it/s]"
     ]
    },
    {
     "name": "stdout",
     "output_type": "stream",
     "text": [
      "Step 1800: train loss = 0.0000, val loss = 0.0000\n"
     ]
    },
    {
     "name": "stderr",
     "output_type": "stream",
     "text": [
      "Training:  61%|██████    | 1924/3170 [00:13<00:08, 144.33it/s]"
     ]
    },
    {
     "name": "stdout",
     "output_type": "stream",
     "text": [
      "Step 1900: train loss = 0.0000, val loss = 0.0000\n"
     ]
    },
    {
     "name": "stderr",
     "output_type": "stream",
     "text": [
      "Training:  64%|██████▍   | 2029/3170 [00:14<00:07, 144.13it/s]"
     ]
    },
    {
     "name": "stdout",
     "output_type": "stream",
     "text": [
      "Step 2000: train loss = 0.0000, val loss = 0.0000\n"
     ]
    },
    {
     "name": "stderr",
     "output_type": "stream",
     "text": [
      "Training:  67%|██████▋   | 2119/3170 [00:14<00:07, 144.73it/s]"
     ]
    },
    {
     "name": "stdout",
     "output_type": "stream",
     "text": [
      "Step 2100: train loss = 0.0000, val loss = 0.0000\n"
     ]
    },
    {
     "name": "stderr",
     "output_type": "stream",
     "text": [
      "Training:  70%|███████   | 2224/3170 [00:15<00:06, 144.89it/s]"
     ]
    },
    {
     "name": "stdout",
     "output_type": "stream",
     "text": [
      "Step 2200: train loss = 0.0000, val loss = 0.0000\n"
     ]
    },
    {
     "name": "stderr",
     "output_type": "stream",
     "text": [
      "Training:  73%|███████▎  | 2329/3170 [00:16<00:05, 144.21it/s]"
     ]
    },
    {
     "name": "stdout",
     "output_type": "stream",
     "text": [
      "Step 2300: train loss = 0.0000, val loss = 0.0000\n"
     ]
    },
    {
     "name": "stderr",
     "output_type": "stream",
     "text": [
      "Training:  76%|███████▋  | 2419/3170 [00:16<00:05, 144.55it/s]"
     ]
    },
    {
     "name": "stdout",
     "output_type": "stream",
     "text": [
      "Step 2400: train loss = 0.0000, val loss = 0.0000\n"
     ]
    },
    {
     "name": "stderr",
     "output_type": "stream",
     "text": [
      "Training:  80%|███████▉  | 2524/3170 [00:17<00:04, 144.36it/s]"
     ]
    },
    {
     "name": "stdout",
     "output_type": "stream",
     "text": [
      "Step 2500: train loss = 0.0000, val loss = 0.0000\n"
     ]
    },
    {
     "name": "stderr",
     "output_type": "stream",
     "text": [
      "Training:  83%|████████▎ | 2629/3170 [00:18<00:03, 144.14it/s]"
     ]
    },
    {
     "name": "stdout",
     "output_type": "stream",
     "text": [
      "Step 2600: train loss = 0.0000, val loss = 0.0000\n"
     ]
    },
    {
     "name": "stderr",
     "output_type": "stream",
     "text": [
      "Training:  86%|████████▌ | 2719/3170 [00:18<00:03, 144.41it/s]"
     ]
    },
    {
     "name": "stdout",
     "output_type": "stream",
     "text": [
      "Step 2700: train loss = 0.0000, val loss = 0.0000\n"
     ]
    },
    {
     "name": "stderr",
     "output_type": "stream",
     "text": [
      "Training:  89%|████████▉ | 2824/3170 [00:19<00:02, 144.96it/s]"
     ]
    },
    {
     "name": "stdout",
     "output_type": "stream",
     "text": [
      "Step 2800: train loss = 0.0000, val loss = 0.0000\n"
     ]
    },
    {
     "name": "stderr",
     "output_type": "stream",
     "text": [
      "Training:  92%|█████████▏| 2929/3170 [00:20<00:01, 144.47it/s]"
     ]
    },
    {
     "name": "stdout",
     "output_type": "stream",
     "text": [
      "Step 2900: train loss = 0.0000, val loss = 0.0000\n"
     ]
    },
    {
     "name": "stderr",
     "output_type": "stream",
     "text": [
      "Training:  95%|█████████▌| 3024/3170 [00:20<00:00, 153.86it/s]"
     ]
    },
    {
     "name": "stdout",
     "output_type": "stream",
     "text": [
      "Step 3000: train loss = 0.0000, val loss = 0.0000\n"
     ]
    },
    {
     "name": "stderr",
     "output_type": "stream",
     "text": [
      "Training:  98%|█████████▊| 3120/3170 [00:21<00:00, 154.69it/s]"
     ]
    },
    {
     "name": "stdout",
     "output_type": "stream",
     "text": [
      "Step 3100: train loss = 0.0000, val loss = 0.0000\n"
     ]
    },
    {
     "name": "stderr",
     "output_type": "stream",
     "text": [
      "Training: 100%|██████████| 3170/3170 [00:21<00:00, 144.75it/s]\n"
     ]
    }
   ],
   "source": [
    "from tqdm import trange\n",
    "\n",
    "model.train()\n",
    "for i in trange(N_iterations, desc=\"Training\"):\n",
    "    batch_seq_len_idx = np.random.choice(len(train_dataset_lengths), p=np.array(train_dataset_lengths) / sum(train_dataset_lengths))\n",
    "    batch_dataset = train_datasets_by_length[batch_seq_len_idx]\n",
    "    batch_indices = np.random.choice(len(batch_dataset), size=min(batch_size, len(batch_dataset)), replace=False)\n",
    "    batch = batch_dataset[batch_indices]\n",
    "    optimizer.zero_grad()\n",
    "    logits = model(batch)\n",
    "    loss = loss_fn(logits.view(-1, A), batch.view(-1))\n",
    "    loss.backward()\n",
    "    optimizer.step()\n",
    "    if i % 100 == 0:\n",
    "        with torch.no_grad():\n",
    "            model.eval()\n",
    "            val_losses = []\n",
    "            for val_len_idx, val_dataset in enumerate(val_datasets_by_length):\n",
    "                val_batch_indices = np.random.choice(len(val_dataset), size=min(batch_size, len(val_dataset)), replace=False)\n",
    "                val_batch = val_dataset[val_batch_indices]\n",
    "                val_logits = model(val_batch)\n",
    "                val_loss = loss_fn(val_logits.view(-1, A), val_batch.view(-1)).item()\n",
    "                val_losses.append(val_loss)\n",
    "            avg_val_loss = np.mean(val_losses) if val_losses else float('nan')\n",
    "            print(f\"Step {i}: train loss = {loss.item():.4f}, val loss = {avg_val_loss:.4f}\")\n",
    "            # print(val_logits)\n",
    "            model.train()"
   ]
  },
  {
   "cell_type": "code",
   "execution_count": 17,
   "id": "b48403d6",
   "metadata": {},
   "outputs": [
    {
     "name": "stdout",
     "output_type": "stream",
     "text": [
      "Sequence 0: (1, 0, 0), Probability: 1.4495e-02\n",
      "Sequence 1: (2, 0, 0, 1, 2, 1, 0), Probability: 9.7665e-05\n",
      "Sequence 2: (0, 2, 0, 0, 2, 1, 0), Probability: 1.9616e-03\n",
      "Sequence 3: (2, 0, 2, 0, 2, 2, 0), Probability: 1.4495e-02\n",
      "Sequence 4: (0, 1, 0, 0, 2, 1), Probability: 3.9401e-02\n",
      "Sequence 5: (0, 2, 0, 0, 2, 2, 0, 0), Probability: 1.0710e-01\n",
      "Sequence 6: (1, 0, 0, 1, 2, 1), Probability: 1.9616e-03\n",
      "Sequence 7: (0, 0, 2, 1, 2, 2, 0, 1), Probability: 1.9616e-03\n",
      "Sequence 8: (0, 1, 0, 0), Probability: 1.4495e-02\n",
      "Sequence 9: (0, 2, 0, 0, 2, 2, 0, 0), Probability: 1.0710e-01\n",
      "Sequence 10: (0, 2, 0, 0, 2, 1, 0, 0), Probability: 5.3323e-03\n",
      "Sequence 11: (1, 1, 0), Probability: 1.4495e-02\n",
      "Sequence 12: (2, 0, 2, 0, 2, 0, 0), Probability: 7.2165e-04\n",
      "Sequence 13: (2, 0, 2, 0, 2, 2, 0, 1, 1), Probability: 5.3323e-03\n",
      "Sequence 14: (0, 2, 0, 0, 2, 2, 0), Probability: 3.9401e-02\n",
      "Sequence 15: (1, 0, 0), Probability: 1.4495e-02\n",
      "Sequence 16: (0, 2, 0, 0, 2, 2, 0), Probability: 3.9401e-02\n",
      "Sequence 17: (0, 0, 1), Probability: 7.2165e-04\n",
      "Sequence 18: (0, 2, 1, 1, 2, 2, 0, 0), Probability: 3.9401e-02\n",
      "Sequence 19: (0, 2, 2, 1, 2, 2, 2, 0), Probability: 1.4495e-02\n"
     ]
    }
   ],
   "source": [
    "for i in range(20):\n",
    "    seq = train_dataset[i]\n",
    "    prob = probs[train_sample_indices[i]]\n",
    "    print(f\"Sequence {i}: {seq}, Probability: {prob:.4e}\")"
   ]
  },
  {
   "cell_type": "code",
   "execution_count": 18,
   "id": "1d01a70d",
   "metadata": {},
   "outputs": [
    {
     "name": "stdout",
     "output_type": "stream",
     "text": [
      "Sequence: [0, 0, 0], Probability: 6.1917e-01\n",
      "Sequence: [0, 0, 0, 0, 0, 0], Probability: 1.4762e-01\n",
      "Sequence: [1, 1, 1, 1], Probability: 1.3204e-01\n",
      "Sequence: [1, 1, 1, 1, 1, 1, 0, 1, 1], Probability: 5.7307e-03\n",
      "Sequence: [1, 1, 1, 1, 0, 0, 1], Probability: 6.8714e-02\n",
      "Sequence: [0, 1, 0], Probability: 1.3979e-01\n",
      "Sequence: [1, 1, 1, 1, 0, 1, 0, 1], Probability: 7.6549e-02\n",
      "Sequence: [0, 1, 1, 1, 1], Probability: 1.7808e-01\n",
      "Sequence: [0, 0, 0, 0, 0, 0, 0], Probability: 6.1656e-01\n",
      "Sequence: [0, 0, 0, 0, 0, 0], Probability: 6.1702e-01\n",
      "Sequence: [1, 0, 1, 0, 0, 0, 0, 0], Probability: 5.0304e-02\n",
      "Sequence: [1, 1, 1, 0, 1, 1, 0, 1], Probability: 1.6121e-01\n",
      "Sequence: [0, 0, 0, 1], Probability: 1.3967e-01\n",
      "Sequence: [1, 1, 1, 1, 1, 1, 1, 1, 1, 1], Probability: 4.0195e-02\n",
      "Sequence: [0, 0, 0, 0, 0, 0, 0, 0], Probability: 6.0005e-01\n",
      "Sequence: [0, 0, 0, 1, 1, 0, 1], Probability: 1.1981e-01\n",
      "Sequence: [0, 0, 0, 0, 0, 0, 0, 0], Probability: 2.3351e-01\n",
      "Sequence: [0, 0, 0, 1, 0, 0, 0], Probability: 8.6513e-02\n",
      "Sequence: [0, 1, 0, 0, 0, 0, 0, 0], Probability: 1.3821e-01\n",
      "Sequence: [0, 1, 1, 1, 1, 1, 1], Probability: 6.4541e-02\n"
     ]
    }
   ],
   "source": [
    "# Generate 20 samples from the model using random decoding orderings and empirical length distribution\n",
    "num_samples = 20\n",
    "sampled_sequences = []\n",
    "sampled_probs = []\n",
    "\n",
    "lengths = [len(seq) for seq in seqs]\n",
    "probs = np.exp(np.array(log_probs) - np.max(log_probs)) / np.sum(np.exp(np.array(log_probs) - np.max(log_probs)))\n",
    "lengths_arr = np.array(lengths)\n",
    "length_prob_mass = np.array([np.sum(probs[lengths_arr == l]) for l in range(1, L_max + 1)])\n",
    "length_prob_mass /= length_prob_mass.sum()\n",
    "\n",
    "model.eval()\n",
    "with torch.no_grad():\n",
    "    for _ in range(num_samples):\n",
    "        seq_len = np.random.choice(np.arange(1, L_max + 1), p=length_prob_mass)\n",
    "        ordering = np.random.permutation(seq_len)\n",
    "        seq = [A] * seq_len  # Start with all masked\n",
    "        prob = 1.0\n",
    "        for idx in ordering:\n",
    "            input_seq = torch.tensor([seq], dtype=torch.long).to(device)\n",
    "            logits = model(input_seq)[0, idx]\n",
    "            probs_token = torch.exp(logits)\n",
    "            token = torch.multinomial(probs_token, num_samples=1).item()\n",
    "            prob *= probs_token[token].item()\n",
    "            seq[idx] = token\n",
    "        sampled_sequences.append(seq)\n",
    "        sampled_probs.append(prob)\n",
    "\n",
    "for seq, p in zip(sampled_sequences, sampled_probs):\n",
    "    print(f\"Sequence: {seq}, Probability: {p:.4e}\")"
   ]
  }
 ],
 "metadata": {
  "kernelspec": {
   "display_name": "consistency",
   "language": "python",
   "name": "python3"
  },
  "language_info": {
   "codemirror_mode": {
    "name": "ipython",
    "version": 3
   },
   "file_extension": ".py",
   "mimetype": "text/x-python",
   "name": "python",
   "nbconvert_exporter": "python",
   "pygments_lexer": "ipython3",
   "version": "3.12.11"
  }
 },
 "nbformat": 4,
 "nbformat_minor": 5
}
