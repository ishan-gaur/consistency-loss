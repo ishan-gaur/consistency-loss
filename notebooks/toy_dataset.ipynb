{
 "cells": [
  {
   "cell_type": "code",
   "execution_count": 48,
   "id": "2fde7ec5",
   "metadata": {},
   "outputs": [],
   "source": [
    "from tqdm import tqdm\n",
    "\n",
    "import math\n",
    "import random\n",
    "import itertools\n",
    "from functools import lru_cache\n",
    "\n",
    "import torch\n",
    "import numpy as np\n",
    "from scipy.stats import lognorm\n",
    "import matplotlib.pyplot as plt\n",
    "from sklearn.model_selection import train_test_split"
   ]
  },
  {
   "cell_type": "code",
   "execution_count": 49,
   "id": "cd8ee49a",
   "metadata": {},
   "outputs": [
    {
     "data": {
      "text/plain": [
       "'\\nFeatures of the model:\\n- #TODO missing sign epistasis in this construction--because interactions are sampled independently, I might be missing some important correlation structure\\n- Multiple lengths\\n- Epistatic interactions are defined in terms of relative positions of elements in the sequence\\n- This means interaction types are shared but different positions have different interaction types available\\n- Boltzmann distribution for energy\\n- Interactions of upto order 4\\n- Interactions only increase the energy, so that the exponentials in the Boltzmann distribution are bounded\\n'"
      ]
     },
     "execution_count": 49,
     "metadata": {},
     "output_type": "execute_result"
    }
   ],
   "source": [
    "\"\"\"\n",
    "Features of the model:\n",
    "- #TODO missing sign epistasis in this construction--because interactions are sampled independently, I might be missing some important correlation structure\n",
    "- Multiple lengths\n",
    "- Epistatic interactions are defined in terms of relative positions of elements in the sequence\n",
    "- This means interaction types are shared but different positions have different interaction types available\n",
    "- Boltzmann distribution for energy\n",
    "- Interactions of upto order 4\n",
    "- Interactions only increase the energy, so that the exponentials in the Boltzmann distribution are bounded\n",
    "\"\"\""
   ]
  },
  {
   "cell_type": "code",
   "execution_count": 50,
   "id": "99144ded",
   "metadata": {},
   "outputs": [
    {
     "name": "stdout",
     "output_type": "stream",
     "text": [
      "9840 87380\n"
     ]
    }
   ],
   "source": [
    "L_max = 8 # maximum sequence length\n",
    "A = 3 # alphabet size\n",
    "D_max = 3 # maximum order of interactions\n",
    "N_seq_space = sum([A ** l for l in range(1, L_max + 1)]) # 1 is for the mask state, sum over all lengths less than L\n",
    "N_data = sum([(A + 1) ** l for l in range(1, L_max + 1)]) # 1 is for the mask state, sum over all lengths less than L\n",
    "print(N_seq_space, N_data)"
   ]
  },
  {
   "cell_type": "code",
   "execution_count": 51,
   "id": "532d9bef",
   "metadata": {},
   "outputs": [
    {
     "name": "stdout",
     "output_type": "stream",
     "text": [
      "633\n"
     ]
    }
   ],
   "source": [
    "# Number of interactions needed\n",
    "# WLOG consider the first position in the d interactors to be at position 0\n",
    "# then there are L_max - 1 choose d - 1 ways to choose the other d - 1 positions\n",
    "# Note a bunch of these terms won't be \"physical\" because the chosen position can be out of bounds for shorter lengths\n",
    "N_interactions = sum([math.comb(L_max - 1, d - 1) * (A ** d) for d in range(1, D_max + 1)])\n",
    "print(N_interactions)"
   ]
  },
  {
   "cell_type": "markdown",
   "id": "fa067fa8",
   "metadata": {},
   "source": [
    "# Calculating Dataset Probabilities"
   ]
  },
  {
   "cell_type": "code",
   "execution_count": 52,
   "id": "a5cf12d0",
   "metadata": {},
   "outputs": [],
   "source": [
    "# Energy function\n",
    "# Interaction energies are deterministic\n",
    "# TODO: should length decrease energy cost? Otherwise, just because there are more possible interactions, longer sequences will be disfavored\n",
    "# Probability of interaction is exponential in the distance between each pair of positions\n",
    "# Interaction contributions are geometrically distributed with support 1, 2, 3, ... with p=0.5 so mean 2\n",
    "# We need to build up the interaction terms and then have a function to compute the energy of a sequence\n",
    "# An easy way to do this is to make a helper function that takes a list of the positions and tokens, and outputting the interaction energy\n",
    "# we can wrap this with a decorator to memoize it, that way it can be stochastic the first time but deterministic later\n",
    "\n",
    "seq_to_str = lambda seq: \",\".join(map(str, seq))\n",
    "str_to_seq = lambda s: list(map(int, s.split(\",\")))\n",
    "\n",
    "@lru_cache(maxsize=None)\n",
    "def interaction(positions, tokens, distance_decay=0.5):\n",
    "    # Sort positions in increasing order and remap tokens accordingly\n",
    "    positions, tokens = str_to_seq(positions), str_to_seq(tokens)\n",
    "    assert len(positions) == len(tokens)\n",
    "    d = len(positions)\n",
    "    sorted_indices = sorted(range(len(positions)), key=lambda k: positions[k])\n",
    "    positions = [positions[i] for i in sorted_indices]\n",
    "    tokens = [tokens[i] for i in sorted_indices]\n",
    "    # interaction strength\n",
    "    interaction_distance = 0\n",
    "    for i in range(d):\n",
    "        for j in range(i + 1, d):\n",
    "            # print(d)\n",
    "            interaction_distance += positions[j] - positions[i]\n",
    "    # interaction occurs with probability equal to strength (capped at 1)\n",
    "    interaction_probability = math.exp(-distance_decay * interaction_distance)\n",
    "    if interaction_probability < random.uniform(0, 1):\n",
    "        return 0 # does into an exponential of the sum of energies so it doesn't change the overall energy \n",
    "    else:\n",
    "        # if it is a vertex energy, we want the mean to be 1 not 2 since they are guaranteed to occur\n",
    "        energy_cost = int(d > 1) + torch.distributions.geometric.Geometric(probs=0.5).sample().float()\n",
    "        return energy_cost\n",
    "\n",
    "@lru_cache(maxsize=None)\n",
    "def unnorm_log_prob(sequence, temperature=1.0, length_scale=2.0):\n",
    "    # sequence is a list of integers in 0, ..., A-1\n",
    "    sequence = str_to_seq(sequence)\n",
    "    energy = 0\n",
    "    for i in range(len(sequence)):\n",
    "        for d in range(1, D_max + 1):\n",
    "            if i + d <= len(sequence):\n",
    "                # anchored at i so need to choose the other d - 1 positions\n",
    "                for positions in itertools.combinations(range(i + 1, len(sequence)), d - 1):\n",
    "                    positions = (i,) + positions\n",
    "                    tokens = [sequence[p] for p in positions]\n",
    "                    energy += interaction(seq_to_str(positions), seq_to_str(tokens))\n",
    "    energy += length_scale * (L_max - len(sequence)) # correct a bit for length bias\n",
    "    return -energy / temperature\n",
    "\n",
    "\n",
    "@lru_cache(maxsize=None)\n",
    "def partition_fn(temperature=1.0):\n",
    "    # Compute the partition function Z = sum_{all sequences} exp(unnorm_log_prob)\n",
    "    # Use log-sum-exp trick for numerical stability\n",
    "    log_probs = []\n",
    "    seqs = []\n",
    "    for l in range(1, L_max + 1):\n",
    "        for seq in tqdm(itertools.product(range(A), repeat=l), total=A**l, desc=f'Length {l}'):\n",
    "            log_probs.append(unnorm_log_prob(seq_to_str(seq), temperature))\n",
    "            seqs.append(seq)\n",
    "    # log-sum-exp\n",
    "    max_log_prob = max(log_probs)\n",
    "    sum_exp = sum(math.exp(lp - max_log_prob) for lp in log_probs)\n",
    "    Z = math.exp(max_log_prob) * sum_exp\n",
    "    return Z, log_probs, seqs\n",
    "\n",
    "@lru_cache(maxsize=None)\n",
    "def prob(sequence, temperature=1.0):\n",
    "    Z, log_probs, seqs = partition_fn(temperature)\n",
    "    return math.exp(unnorm_log_prob(sequence, temperature)) / Z\n"
   ]
  },
  {
   "cell_type": "code",
   "execution_count": 53,
   "id": "4ce1aa05",
   "metadata": {},
   "outputs": [
    {
     "data": {
      "image/png": "[encoded data removed]",
      "text/plain": [
       "<Figure size 640x480 with 1 Axes>"
      ]
     },
     "metadata": {},
     "output_type": "display_data"
    }
   ],
   "source": [
    "# Plot the histogram of interaction probabilities\n",
    "distance_decay = 0.25\n",
    "for d in range(1, D_max + 1):\n",
    "    interaction_costs = []\n",
    "    expected_interactions = 0\n",
    "    for positions in itertools.combinations(range(L_max - 1), d - 1):\n",
    "        positions = (0,) + positions\n",
    "        interaction_distance = 0\n",
    "        for i in range(d):\n",
    "            for j in range(i + 1, d):\n",
    "                interaction_distance += positions[j] - positions[i]\n",
    "        interaction_cost = -distance_decay * interaction_distance\n",
    "        interaction_costs.append(interaction_cost)\n",
    "        interaction_probability = math.exp(interaction_cost)\n",
    "        expected_interactions += interaction_probability * (A ** d)\n",
    "    plt.hist(interaction_costs, bins=50, alpha=0.5, label=f'd={d}, <E>={expected_interactions:.2f}', density=True, log=True)\n",
    "plt.xlabel('Log Interaction Probability')\n",
    "plt.ylabel('Log Frequency')\n",
    "plt.legend()\n",
    "plt.show()"
   ]
  },
  {
   "cell_type": "code",
   "execution_count": 54,
   "id": "ab28597c",
   "metadata": {},
   "outputs": [
    {
     "name": "stderr",
     "output_type": "stream",
     "text": [
      "Length 1: 100%|██████████| 3/3 [00:00<00:00, 3627.24it/s]\n",
      "Length 2: 100%|██████████| 9/9 [00:00<00:00, 7711.69it/s]\n",
      "Length 3: 100%|██████████| 27/27 [00:00<00:00, 8253.50it/s]\n",
      "Length 4: 100%|██████████| 81/81 [00:00<00:00, 10840.07it/s]\n",
      "Length 5: 100%|██████████| 243/243 [00:00<00:00, 9314.71it/s]\n",
      "Length 6: 100%|██████████| 729/729 [00:00<00:00, 6507.50it/s]\n",
      "Length 7: 100%|██████████| 2187/2187 [00:00<00:00, 4422.69it/s]\n",
      "Length 8: 100%|██████████| 6561/6561 [00:02<00:00, 2974.77it/s]\n"
     ]
    },
    {
     "data": {
      "image/png": "[encoded data removed]",
      "text/plain": [
       "<Figure size 640x480 with 1 Axes>"
      ]
     },
     "metadata": {},
     "output_type": "display_data"
    }
   ],
   "source": [
    "Z, log_probs, seqs = partition_fn(temperature=1.0)\n",
    "energies = [math.exp(-lp) for lp in log_probs]\n",
    "log_energies = [-lp for lp in log_probs]\n",
    "plt.hist(log_energies, bins=100, log=True, density=True)\n",
    "plt.xlabel('Log Energy')\n",
    "plt.ylabel('Log Frequency')\n",
    "plt.title('Histogram of Sequence Energies (log-log)')\n",
    "plt.show()"
   ]
  },
  {
   "cell_type": "code",
   "execution_count": 55,
   "id": "cfce3947",
   "metadata": {},
   "outputs": [
    {
     "data": {
      "image/png": "[encoded data removed]",
      "text/plain": [
       "<Figure size 640x480 with 1 Axes>"
      ]
     },
     "metadata": {},
     "output_type": "display_data"
    }
   ],
   "source": [
    "probs = np.exp(np.array(log_probs) - np.max(log_probs)) / np.sum(np.exp(np.array(log_probs) - np.max(log_probs)))\n",
    "lengths = [len(seq) for seq in seqs]\n",
    "prob_mass_by_length = [np.sum(probs[np.array(lengths) == l]) for l in range(1, max(lengths) + 1)]\n",
    "plt.plot(range(1, max(lengths) + 1), prob_mass_by_length, marker='o')\n",
    "plt.yscale('log')\n",
    "plt.xlabel('Sequence Length')\n",
    "plt.ylabel('Total Probability Mass (log scale)')\n",
    "plt.title('Probability Mass by Sequence Length')\n",
    "plt.show()"
   ]
  },
  {
   "cell_type": "code",
   "execution_count": 56,
   "id": "a2885848",
   "metadata": {},
   "outputs": [
    {
     "data": {
      "image/png": "[encoded data removed]",
      "text/plain": [
       "<Figure size 640x480 with 1 Axes>"
      ]
     },
     "metadata": {},
     "output_type": "display_data"
    }
   ],
   "source": [
    "# Plot histograms of probabilities by sequence length\n",
    "for l in range(1, max(lengths) + 1):\n",
    "    plt.hist(probs[np.array(lengths) == l], bins=50, alpha=0.6, label=f'Length {l}', density=True, log=True)\n",
    "plt.xlabel('Probability')\n",
    "plt.ylabel('Log Frequency')\n",
    "plt.title('Histogram of Sequence Probabilities by Length')\n",
    "plt.legend()\n",
    "plt.show()"
   ]
  },
  {
   "cell_type": "code",
   "execution_count": 57,
   "id": "04242616",
   "metadata": {},
   "outputs": [
    {
     "data": {
      "image/png": "[encoded data removed]",
      "text/plain": [
       "<Figure size 640x480 with 1 Axes>"
      ]
     },
     "metadata": {},
     "output_type": "display_data"
    }
   ],
   "source": [
    "lognormal = lognorm(s=1.0, scale=np.exp(0))  # mean=0, sigma=1\n",
    "x = np.linspace(0.01, 10, 1000)\n",
    "pdf_lognormal = lognormal.pdf(x)\n",
    "plt.semilogx(10 * x, np.log(pdf_lognormal))\n",
    "plt.xlabel('x (log scale)')\n",
    "plt.ylabel('Log PDF')\n",
    "plt.title('Log PDF of Log-Normal Distribution')\n",
    "plt.show()"
   ]
  },
  {
   "cell_type": "markdown",
   "id": "17469b70",
   "metadata": {},
   "source": [
    "# Model"
   ]
  },
  {
   "cell_type": "code",
   "execution_count": 58,
   "id": "aa7d5455",
   "metadata": {},
   "outputs": [],
   "source": [
    "from torch import nn\n",
    "import torch.nn.functional as F\n",
    "class sequence_model(nn.Module):\n",
    "    def __init__(self, L_max, A, D_max, d_model=64, n_head=4, n_layers=1):\n",
    "        super(sequence_model, self).__init__()\n",
    "        self.embedding = nn.Embedding(A + 1, d_model)\n",
    "        self.n_layers = n_layers\n",
    "        self.n_head = n_head\n",
    "        self.d_model = d_model\n",
    "        self.head_dim = d_model // n_head\n",
    "        self.layers = nn.ModuleList([\n",
    "            nn.ModuleDict({\n",
    "                'self_attn_q': nn.Linear(d_model, d_model),\n",
    "                'self_attn_k': nn.Linear(d_model, d_model),\n",
    "                'self_attn_v': nn.Linear(d_model, d_model),\n",
    "                'self_attn_out': nn.Linear(d_model, d_model),\n",
    "                'ffn1': nn.Linear(d_model, d_model),\n",
    "                'ffn2': nn.Linear(d_model, d_model),\n",
    "                'norm1': nn.LayerNorm(d_model),\n",
    "                'norm2': nn.LayerNorm(d_model)\n",
    "            }) for _ in range(n_layers)\n",
    "        ])\n",
    "        self.fc = nn.Linear(d_model, A)\n",
    "\n",
    "    def forward(self, x):\n",
    "        x_embed = self.embedding(x)\n",
    "        seq_len = x_embed.size(1)\n",
    "        mask = torch.triu(torch.ones(seq_len, seq_len, device=x.device), diagonal=1).bool()\n",
    "        out = x_embed\n",
    "        for layer in self.layers:\n",
    "            # Multi-head self-attention\n",
    "            q = layer['self_attn_q'](out)\n",
    "            k = layer['self_attn_k'](out)\n",
    "            v = layer['self_attn_v'](out)\n",
    "            # [batch, seq, d_model] -> [batch, seq, n_head, head_dim]\n",
    "            def split_heads(t):\n",
    "                return t.view(t.size(0), t.size(1), self.n_head, self.head_dim).transpose(1, 2)\n",
    "            qh, kh, vh = split_heads(q), split_heads(k), split_heads(v)\n",
    "            # Attention scores\n",
    "            attn_scores = torch.matmul(qh, kh.transpose(-2, -1)) / math.sqrt(self.head_dim)\n",
    "            attn_scores = attn_scores.masked_fill(mask.unsqueeze(0).unsqueeze(1), float('-inf'))\n",
    "            attn_weights = torch.softmax(attn_scores, dim=-1)\n",
    "            attn_out = torch.matmul(attn_weights, vh)\n",
    "            # Merge heads\n",
    "            attn_out = attn_out.transpose(1, 2).contiguous().view(out.size(0), seq_len, self.d_model)\n",
    "            attn_out = layer['self_attn_out'](attn_out)\n",
    "            out = layer['norm1'](out + attn_out)\n",
    "            # Feedforward\n",
    "            ff = layer['ffn2'](torch.relu(layer['ffn1'](out)))\n",
    "            out = layer['norm2'](out + ff)\n",
    "        logits = self.fc(out)\n",
    "        logits = F.log_softmax(logits, dim=-1)\n",
    "        return logits\n"
   ]
  },
  {
   "cell_type": "code",
   "execution_count": 59,
   "id": "3b26a490",
   "metadata": {},
   "outputs": [
    {
     "name": "stdout",
     "output_type": "stream",
     "text": [
      "9840 9840\n"
     ]
    }
   ],
   "source": [
    "print(N_seq_space, len(np.array(energies)))"
   ]
  },
  {
   "cell_type": "code",
   "execution_count": 60,
   "id": "167b727d",
   "metadata": {},
   "outputs": [
    {
     "name": "stdout",
     "output_type": "stream",
     "text": [
      "torch.Size([97280, 8]) torch.Size([97280, 8])\n",
      "torch.Size([10752, 8]) torch.Size([10752, 8])\n",
      "[256, 512, 1792, 19200, 26112, 38144, 72704, 97280] [768, 1280, 2048, 1536, 18944, 15872, 10752]\n"
     ]
    }
   ],
   "source": [
    "device = torch.device('cuda' if torch.cuda.is_available() else 'cpu')\n",
    "# device = 'cpu'\n",
    "N_dataset = 1000\n",
    "N_mask = 2 ** L_max\n",
    "\n",
    "# Split indices for train/val\n",
    "train_indices, val_indices = train_test_split(np.arange(N_seq_space), test_size=0.2, random_state=42, stratify=[len(seq) for seq in seqs])\n",
    "\n",
    "# Sample sequences for train/val using probs\n",
    "train_sample_indices = np.random.choice(train_indices, size=(N_dataset,), replace=True, p=probs[train_indices]/probs[train_indices].sum())\n",
    "val_sample_indices = np.random.choice(val_indices, size=(N_dataset // 5,), replace=True, p=probs[val_indices]/probs[val_indices].sum())\n",
    "\n",
    "train_dataset = [seqs[i] for i in train_sample_indices]\n",
    "val_dataset = [seqs[i] for i in val_sample_indices]\n",
    "\n",
    "def make_masked_dataset(dataset, L_max, A, N_mask):\n",
    "    Xt_by_length = [[] for _ in range(L_max)]\n",
    "    X1_by_length = [[] for _ in range(L_max)]\n",
    "    for seq in dataset:\n",
    "        for _ in range(N_mask):\n",
    "            n_masked = np.random.randint(1, len(seq) + 1)\n",
    "            masked_positions = np.random.choice(len(seq), size=n_masked, replace=False)\n",
    "            masked_seq = [A if i in masked_positions else seq[i] for i in range(len(seq))]\n",
    "            Xt_by_length[len(seq) - 1].append(masked_seq)\n",
    "            X1_by_length[len(seq) - 1].append(seq)\n",
    "    print(torch.tensor(Xt_by_length[-1]).shape, torch.tensor(X1_by_length[-1]).shape)\n",
    "    return [\n",
    "        (torch.tensor(xt, dtype=torch.long).to(device), torch.tensor(x1, dtype=torch.long).to(device))\n",
    "        for xt, x1 in zip(Xt_by_length, X1_by_length) if len(xt) > 0\n",
    "    ]\n",
    "\n",
    "train_datasets_by_length = make_masked_dataset(train_dataset, L_max, A, N_mask)\n",
    "val_datasets_by_length = make_masked_dataset(val_dataset, L_max, A, N_mask)\n",
    "\n",
    "train_dataset_lengths = [len(d[0]) for d in train_datasets_by_length]\n",
    "val_dataset_lengths = [len(d[0]) for d in val_datasets_by_length]\n",
    "print(train_dataset_lengths, val_dataset_lengths)"
   ]
  },
  {
   "cell_type": "code",
   "execution_count": 61,
   "id": "37351252",
   "metadata": {},
   "outputs": [
    {
     "name": "stdout",
     "output_type": "stream",
     "text": [
      "1600 [256, 512, 1792, 19200, 26112, 38144, 72704, 97280]\n"
     ]
    }
   ],
   "source": [
    "batch_size = 32\n",
    "epochs = 1\n",
    "N_iterations = int(sum([l // batch_size + int(l % batch_size > 0) for l in val_dataset_lengths]) * epochs)\n",
    "print(N_iterations, train_dataset_lengths)"
   ]
  },
  {
   "cell_type": "code",
   "execution_count": 62,
   "id": "02aa61d9",
   "metadata": {},
   "outputs": [],
   "source": [
    "model = sequence_model(L_max, A, D_max).to(device)\n",
    "optimizer = torch.optim.Adam(model.parameters(), lr=1e-5)\n",
    "loss_weights = torch.zeros(A).to(device)\n",
    "loss_weights[-1] = 1.0 # only care about the masked predictions\n",
    "loss_fn = nn.NLLLoss(weight=loss_weights, ignore_index=-1)"
   ]
  },
  {
   "cell_type": "code",
   "execution_count": 63,
   "id": "867745af",
   "metadata": {},
   "outputs": [
    {
     "name": "stderr",
     "output_type": "stream",
     "text": [
      "Training:   1%|▏         | 22/1600 [00:00<00:07, 211.02it/s]"
     ]
    },
    {
     "name": "stdout",
     "output_type": "stream",
     "text": [
      "Step 0: train loss = 1.1845, val loss = 1.1510\n"
     ]
    },
    {
     "name": "stderr",
     "output_type": "stream",
     "text": [
      "Training:   8%|▊         | 134/1600 [00:00<00:06, 218.64it/s]"
     ]
    },
    {
     "name": "stdout",
     "output_type": "stream",
     "text": [
      "Step 100: train loss = 1.0927, val loss = 1.1755\n"
     ]
    },
    {
     "name": "stderr",
     "output_type": "stream",
     "text": [
      "Training:  15%|█▍        | 236/1600 [00:01<00:07, 186.74it/s]"
     ]
    },
    {
     "name": "stdout",
     "output_type": "stream",
     "text": [
      "Step 200: train loss = 1.0445, val loss = 1.1751\n"
     ]
    },
    {
     "name": "stderr",
     "output_type": "stream",
     "text": [
      "Training:  21%|██        | 329/1600 [00:01<00:05, 220.27it/s]"
     ]
    },
    {
     "name": "stdout",
     "output_type": "stream",
     "text": [
      "Step 300: train loss = 1.0280, val loss = 1.1745\n"
     ]
    },
    {
     "name": "stderr",
     "output_type": "stream",
     "text": [
      "Training:  27%|██▋       | 431/1600 [00:02<00:04, 240.16it/s]"
     ]
    },
    {
     "name": "stdout",
     "output_type": "stream",
     "text": [
      "Step 400: train loss = 1.0565, val loss = 1.1797\n"
     ]
    },
    {
     "name": "stderr",
     "output_type": "stream",
     "text": [
      "Training:  34%|███▍      | 543/1600 [00:02<00:03, 268.51it/s]"
     ]
    },
    {
     "name": "stdout",
     "output_type": "stream",
     "text": [
      "Step 500: train loss = 0.9903, val loss = 1.2048\n"
     ]
    },
    {
     "name": "stderr",
     "output_type": "stream",
     "text": [
      "Training:  41%|████      | 655/1600 [00:02<00:03, 275.10it/s]"
     ]
    },
    {
     "name": "stdout",
     "output_type": "stream",
     "text": [
      "Step 600: train loss = 1.0055, val loss = 1.2047\n"
     ]
    },
    {
     "name": "stderr",
     "output_type": "stream",
     "text": [
      "Training:  46%|████▋     | 741/1600 [00:03<00:03, 279.39it/s]"
     ]
    },
    {
     "name": "stdout",
     "output_type": "stream",
     "text": [
      "Step 700: train loss = 1.0735, val loss = 1.1401\n"
     ]
    },
    {
     "name": "stderr",
     "output_type": "stream",
     "text": [
      "Training:  54%|█████▎    | 856/1600 [00:03<00:02, 277.47it/s]"
     ]
    },
    {
     "name": "stdout",
     "output_type": "stream",
     "text": [
      "Step 800: train loss = 1.0053, val loss = 1.1275\n"
     ]
    },
    {
     "name": "stderr",
     "output_type": "stream",
     "text": [
      "Training:  59%|█████▉    | 941/1600 [00:03<00:02, 276.12it/s]"
     ]
    },
    {
     "name": "stdout",
     "output_type": "stream",
     "text": [
      "Step 900: train loss = 1.0524, val loss = 1.1576\n"
     ]
    },
    {
     "name": "stderr",
     "output_type": "stream",
     "text": [
      "Training:  64%|██████▎   | 1019/1600 [00:04<00:02, 218.02it/s]"
     ]
    },
    {
     "name": "stdout",
     "output_type": "stream",
     "text": [
      "Step 1000: train loss = 0.9468, val loss = 1.1461\n"
     ]
    },
    {
     "name": "stderr",
     "output_type": "stream",
     "text": [
      "Training:  70%|███████   | 1123/1600 [00:04<00:02, 187.42it/s]"
     ]
    },
    {
     "name": "stdout",
     "output_type": "stream",
     "text": [
      "Step 1100: train loss = 0.9049, val loss = 1.1148\n"
     ]
    },
    {
     "name": "stderr",
     "output_type": "stream",
     "text": [
      "Training:  77%|███████▋  | 1238/1600 [00:05<00:01, 186.48it/s]"
     ]
    },
    {
     "name": "stdout",
     "output_type": "stream",
     "text": [
      "Step 1200: train loss = 0.9943, val loss = 1.2123\n"
     ]
    },
    {
     "name": "stderr",
     "output_type": "stream",
     "text": [
      "Training:  83%|████████▎ | 1334/1600 [00:05<00:01, 184.57it/s]"
     ]
    },
    {
     "name": "stdout",
     "output_type": "stream",
     "text": [
      "Step 1300: train loss = 0.9886, val loss = 1.1138\n"
     ]
    },
    {
     "name": "stderr",
     "output_type": "stream",
     "text": [
      "Training:  90%|█████████ | 1441/1600 [00:06<00:00, 201.05it/s]"
     ]
    },
    {
     "name": "stdout",
     "output_type": "stream",
     "text": [
      "Step 1400: train loss = 1.0065, val loss = 1.1071\n"
     ]
    },
    {
     "name": "stderr",
     "output_type": "stream",
     "text": [
      "Training:  95%|█████████▌| 1525/1600 [00:06<00:00, 202.24it/s]"
     ]
    },
    {
     "name": "stdout",
     "output_type": "stream",
     "text": [
      "Step 1500: train loss = 1.0586, val loss = 1.1514\n"
     ]
    },
    {
     "name": "stderr",
     "output_type": "stream",
     "text": [
      "Training: 100%|██████████| 1600/1600 [00:07<00:00, 219.47it/s]\n"
     ]
    }
   ],
   "source": [
    "from tqdm import trange\n",
    "\n",
    "model.train()\n",
    "for i in trange(N_iterations, desc=\"Training\"):\n",
    "    batch_seq_len_idx = np.random.choice(len(train_dataset_lengths), p=np.array(train_dataset_lengths) / sum(train_dataset_lengths))\n",
    "    batch_dataset = train_datasets_by_length[batch_seq_len_idx]\n",
    "    batch_indices = np.random.choice(len(batch_dataset[0]), size=min(batch_size, len(batch_dataset[0])), replace=False)\n",
    "    Xt_batch_BL = batch_dataset[0][batch_indices]\n",
    "    X1_batch_BL = batch_dataset[1][batch_indices]\n",
    "    optimizer.zero_grad()\n",
    "    # print(batch_dataset[0].shape, batch_dataset[1].shape, len(batch_dataset), len(batch_indices))\n",
    "    # print(Xt_batch_BL.shape, X1_batch_BL.shape)\n",
    "    logits_BLA = model(Xt_batch_BL)\n",
    "    # print(logits_BLA.shape)\n",
    "    logits_x1_BL = logits_BLA.gather(2, X1_batch_BL.unsqueeze(-1)).squeeze(-1)\n",
    "    loss = torch.sum(-logits_x1_BL * (Xt_batch_BL == A).float()) / torch.sum((Xt_batch_BL == A).float())\n",
    "    # print(loss)\n",
    "    loss.backward()\n",
    "    optimizer.step()\n",
    "    if i % 100 == 0:\n",
    "        with torch.no_grad():\n",
    "            model.eval()\n",
    "            val_losses = []\n",
    "            val_dataset_idx = np.random.choice(len(val_dataset_lengths), p=np.array(val_dataset_lengths) / sum(val_dataset_lengths))\n",
    "            val_dataset = val_datasets_by_length[val_dataset_idx]\n",
    "            val_batch_indices = np.random.choice(len(val_dataset[0]), size=min(batch_size, len(val_dataset[0])), replace=False)\n",
    "            Xt_val_batch, X1_val_batch = (val_dataset[0][val_batch_indices], val_dataset[1][val_batch_indices])\n",
    "            X1_val_batch = torch.where(Xt_val_batch == A, X1_val_batch, -1)\n",
    "            val_logits = model(Xt_val_batch)\n",
    "            val_loss = loss_fn(val_logits.view(-1, A), X1_val_batch.view(-1)).item()\n",
    "            val_losses.append(val_loss)\n",
    "            avg_val_loss = np.mean(val_losses) if val_losses else float('nan')\n",
    "            print(f\"Step {i}: train loss = {loss.item():.4f}, val loss = {avg_val_loss:.4f}\")\n",
    "            # # Product of likelihoods for 10 samples from the validation dataset\n",
    "            # sample_idx = np.random.choice(len(val_dataset[1]), size=10, replace=False)\n",
    "            # val_samples = val_dataset[1][sample_idx].cpu().numpy()\n",
    "            # # print(val_samples)\n",
    "            # val_likelihoods = [prob(seq_to_str(seq.tolist()), temperature=1.0) for seq in val_samples]\n",
    "            # # print(val_likelihoods)\n",
    "            # # input()\n",
    "            # val_likelihood_product = np.sum(np.log(val_likelihoods))\n",
    "            # print(\"Product of likelihoods for 10 validation samples:\", val_likelihood_product)\n",
    "            # # print(\"Likelihoods for 10 validation samples:\", val_likelihoods)\n",
    "\n",
    "            # # Likelihoods for 10 samples from the model\n",
    "            # model.eval()\n",
    "            # model_samples = []\n",
    "            # model_sample_likelihoods = []\n",
    "            # for _ in range(10):\n",
    "            #     seq_len_idx = np.random.choice(len(val_dataset_lengths), p=np.array(val_dataset_lengths) / sum(val_dataset_lengths))\n",
    "            #     seq_len = len(val_datasets_by_length[seq_len_idx][0][0])\n",
    "            #     # print(seq_len)\n",
    "            #     seq = [A] * seq_len\n",
    "            #     ordering = np.random.permutation(seq_len)\n",
    "            #     for idx in ordering:\n",
    "            #         input_seq = torch.tensor([seq], dtype=torch.long).to(device)\n",
    "            #         logits_BLA = model(input_seq)[0, idx]\n",
    "            #         probs_token = torch.exp(logits_BLA)\n",
    "            #         token = torch.multinomial(probs_token, num_samples=1).item()\n",
    "            #         seq[idx] = token\n",
    "            #     model_samples.append(seq)\n",
    "            #     model_sample_likelihoods.append(np.log(prob(seq_to_str(seq), temperature=1.0)))\n",
    "            # # print(\"Likelihoods for 10 model samples:\", model_sample_likelihoods)\n",
    "            # print(\"Product of likelihoods for 10 model samples:\", np.sum(model_sample_likelihoods))\n",
    "            # print(\"Validation samples:\")\n",
    "            # print(val_samples[:5])\n",
    "            # print(\"Model samples:\")\n",
    "            # print(model_samples[:5])\n",
    "            # print(val_logits)\n",
    "            model.train()"
   ]
  },
  {
   "cell_type": "code",
   "execution_count": 64,
   "id": "b48403d6",
   "metadata": {},
   "outputs": [
    {
     "name": "stdout",
     "output_type": "stream",
     "text": [
      "Sequence 0: (0, 2, 1, 2, 2, 1), Probability: 9.3319e-04\n",
      "Sequence 1: (1, 2, 1, 2, 1, 1), Probability: 1.8744e-02\n",
      "Sequence 2: (1, 2, 0, 2, 1, 1, 2), Probability: 6.8954e-03\n",
      "Sequence 3: (1, 1, 1, 2, 1, 0), Probability: 6.8954e-03\n",
      "Sequence 4: (1, 1, 1, 2, 2, 0, 1, 1), Probability: 1.3850e-01\n",
      "Sequence 5: (0, 2, 0, 2, 1, 1, 0, 0), Probability: 3.4330e-04\n",
      "Sequence 6: (0, 2, 1, 2, 1, 1), Probability: 1.8744e-02\n",
      "Sequence 7: (1, 1, 1, 2, 2, 0, 1, 1), Probability: 1.3850e-01\n",
      "Sequence 8: (1, 1, 1, 2, 2, 0, 1, 1), Probability: 1.3850e-01\n",
      "Sequence 9: (1, 1, 1, 2, 2, 0, 1, 0), Probability: 6.8954e-03\n",
      "Sequence 10: (1, 2, 1, 2, 1, 1, 2), Probability: 5.0950e-02\n",
      "Sequence 11: (0, 2, 1, 2, 1, 1), Probability: 1.8744e-02\n",
      "Sequence 12: (1, 1, 1, 2, 2, 0, 1, 1), Probability: 1.3850e-01\n",
      "Sequence 13: (0, 1, 1, 2, 2, 0), Probability: 9.3319e-04\n",
      "Sequence 14: (1, 2, 0, 1, 1), Probability: 9.3319e-04\n",
      "Sequence 15: (1, 1, 0, 2, 1, 0, 0, 1), Probability: 2.5367e-03\n",
      "Sequence 16: (1, 1, 1, 2, 1, 1, 2, 2), Probability: 2.5367e-03\n",
      "Sequence 17: (1, 1, 1, 2, 2, 0, 1, 1), Probability: 1.3850e-01\n",
      "Sequence 18: (1, 1, 1, 2, 2, 0, 1, 1), Probability: 1.3850e-01\n",
      "Sequence 19: (1, 1, 1, 2, 1), Probability: 1.8744e-02\n",
      "Sequence 20: (1, 1, 1, 2, 2, 0, 1, 1), Probability: 1.3850e-01\n",
      "Sequence 21: (1, 1, 0, 2, 2, 0, 0, 1), Probability: 5.0950e-02\n",
      "Sequence 22: (1, 1, 1, 2, 2, 0, 1, 1), Probability: 1.3850e-01\n",
      "Sequence 23: (1, 2, 0, 2, 2, 1), Probability: 1.2629e-04\n",
      "Sequence 24: (1, 2, 1), Probability: 9.3319e-04\n",
      "Sequence 25: (0, 1, 1, 2, 1, 1, 2), Probability: 6.8954e-03\n",
      "Sequence 26: (1, 1, 0, 2, 1, 0, 0, 2), Probability: 9.3319e-04\n",
      "Sequence 27: (1, 1, 1, 2, 1, 1), Probability: 1.8744e-02\n",
      "Sequence 28: (1, 1, 1, 2, 2, 1), Probability: 2.5367e-03\n",
      "Sequence 29: (1, 1, 1, 2, 1, 1, 0, 1), Probability: 2.5367e-03\n",
      "Sequence 30: (1, 1, 1, 2), Probability: 1.8744e-02\n",
      "Sequence 31: (0, 2, 0, 2, 0, 1), Probability: 1.2629e-04\n",
      "Sequence 32: (1, 1, 1, 2), Probability: 1.8744e-02\n",
      "Sequence 33: (1, 1, 1, 2, 2, 0, 1, 1), Probability: 1.3850e-01\n",
      "Sequence 34: (0, 2, 1, 2, 1), Probability: 6.8954e-03\n",
      "Sequence 35: (1, 1, 1, 2, 2, 0, 1, 1), Probability: 1.3850e-01\n",
      "Sequence 36: (1, 1, 0, 2, 2, 0, 1, 0), Probability: 3.4330e-04\n",
      "Sequence 37: (0, 2, 1, 2, 1, 1, 2), Probability: 5.0950e-02\n",
      "Sequence 38: (1, 1, 0, 2, 2, 0, 0, 1), Probability: 5.0950e-02\n",
      "Sequence 39: (1, 2, 1, 2, 1, 1, 2), Probability: 5.0950e-02\n",
      "Sequence 40: (2, 1, 0, 2, 2, 1, 0, 2), Probability: 1.2629e-04\n",
      "Sequence 41: (0, 1, 2, 0, 0), Probability: 4.6461e-05\n",
      "Sequence 42: (1, 1, 1, 2, 1, 1, 2, 2), Probability: 2.5367e-03\n",
      "Sequence 43: (0, 2, 1, 2, 1), Probability: 6.8954e-03\n",
      "Sequence 44: (1, 1, 0, 2, 2, 0, 1, 1), Probability: 6.8954e-03\n",
      "Sequence 45: (1, 1, 0, 2, 2, 1, 0, 1), Probability: 2.5367e-03\n",
      "Sequence 46: (1, 2, 0, 1, 1, 1, 0, 1), Probability: 3.4330e-04\n",
      "Sequence 47: (2, 2, 0, 1, 1), Probability: 9.3319e-04\n",
      "Sequence 48: (1, 1, 1, 2, 1, 1, 2, 2), Probability: 2.5367e-03\n",
      "Sequence 49: (1, 2, 0, 1, 1, 1, 2, 2), Probability: 2.5367e-03\n",
      "Sequence 50: (1, 1, 1, 2, 2, 0, 1, 0), Probability: 6.8954e-03\n",
      "Sequence 51: (1, 2, 1), Probability: 9.3319e-04\n",
      "Sequence 52: (1, 1, 1, 2, 1, 1), Probability: 1.8744e-02\n",
      "Sequence 53: (1, 2, 0, 2, 1, 1, 0), Probability: 2.5367e-03\n",
      "Sequence 54: (0, 2, 1, 1, 1, 1, 2), Probability: 6.8954e-03\n",
      "Sequence 55: (1, 1, 0, 2, 2, 0, 0, 1), Probability: 5.0950e-02\n",
      "Sequence 56: (2, 2, 0, 1, 1, 1, 2, 2), Probability: 2.5367e-03\n",
      "Sequence 57: (1, 1, 1, 2, 2, 0, 1, 1), Probability: 1.3850e-01\n",
      "Sequence 58: (1, 1, 1, 2, 1), Probability: 1.8744e-02\n",
      "Sequence 59: (1, 2, 1, 2, 1, 1, 2), Probability: 5.0950e-02\n",
      "Sequence 60: (1, 2, 0, 2, 1, 1, 2), Probability: 6.8954e-03\n",
      "Sequence 61: (0, 2, 1, 0, 2), Probability: 2.5367e-03\n",
      "Sequence 62: (0, 2, 1, 0, 0), Probability: 6.8954e-03\n",
      "Sequence 63: (1, 1, 1, 2, 2, 0, 1), Probability: 1.8744e-02\n",
      "Sequence 64: (1, 2, 1, 2, 1, 1, 2), Probability: 5.0950e-02\n",
      "Sequence 65: (1, 2, 1, 2, 1), Probability: 6.8954e-03\n",
      "Sequence 66: (1, 1, 1, 2, 2, 0, 1, 1), Probability: 1.3850e-01\n",
      "Sequence 67: (0, 2, 0, 2, 1, 1, 0), Probability: 2.5367e-03\n",
      "Sequence 68: (1, 1, 1, 2, 1), Probability: 1.8744e-02\n",
      "Sequence 69: (1, 1, 0, 2, 1, 1, 0), Probability: 9.3319e-04\n",
      "Sequence 70: (1, 1, 1, 2, 1, 1), Probability: 1.8744e-02\n",
      "Sequence 71: (1, 1, 0, 2, 2, 0, 0, 1), Probability: 5.0950e-02\n",
      "Sequence 72: (1, 1, 1, 2, 2, 0, 1, 1), Probability: 1.3850e-01\n",
      "Sequence 73: (1, 1, 0, 2, 2, 0, 1, 1), Probability: 6.8954e-03\n",
      "Sequence 74: (1, 1, 1, 2, 2, 0, 1, 1), Probability: 1.3850e-01\n",
      "Sequence 75: (1, 1, 1, 2, 2, 0, 1, 1), Probability: 1.3850e-01\n",
      "Sequence 76: (1, 1, 1, 2, 2, 0, 0, 1), Probability: 1.8744e-02\n",
      "Sequence 77: (2, 2, 0, 2, 1, 1, 2), Probability: 2.5367e-03\n",
      "Sequence 78: (1, 2, 1, 2, 0, 1), Probability: 6.8954e-03\n",
      "Sequence 79: (1, 1, 1, 2, 2, 0, 1, 1), Probability: 1.3850e-01\n",
      "Sequence 80: (1, 1, 1, 2, 2, 0, 0, 1), Probability: 1.8744e-02\n",
      "Sequence 81: (0, 2, 1, 2, 1, 1, 2), Probability: 5.0950e-02\n",
      "Sequence 82: (1, 1, 0, 2, 2, 0, 1, 1), Probability: 6.8954e-03\n",
      "Sequence 83: (0, 2, 1, 2, 2, 1), Probability: 9.3319e-04\n",
      "Sequence 84: (0, 2, 1, 0, 1), Probability: 2.5367e-03\n",
      "Sequence 85: (0, 1, 1, 2, 1, 1, 2), Probability: 6.8954e-03\n",
      "Sequence 86: (1, 1, 0, 2, 2, 0, 0, 1), Probability: 5.0950e-02\n",
      "Sequence 87: (1, 2, 1, 2, 0, 1), Probability: 6.8954e-03\n",
      "Sequence 88: (1, 1, 0, 1, 2, 0, 0), Probability: 6.2878e-06\n",
      "Sequence 89: (1, 1, 0, 2, 2, 0, 0, 1), Probability: 5.0950e-02\n",
      "Sequence 90: (1, 1, 1, 2, 1, 1), Probability: 1.8744e-02\n",
      "Sequence 91: (1, 1, 1, 2, 2, 0, 1, 1), Probability: 1.3850e-01\n",
      "Sequence 92: (1, 1, 1, 2, 2, 0, 0, 1), Probability: 1.8744e-02\n",
      "Sequence 93: (1, 2, 1, 2, 1, 1, 2), Probability: 5.0950e-02\n",
      "Sequence 94: (1, 1, 1, 2, 2, 0, 1), Probability: 1.8744e-02\n",
      "Sequence 95: (1, 1, 1, 2), Probability: 1.8744e-02\n",
      "Sequence 96: (0, 2, 1, 1, 1, 1, 2), Probability: 6.8954e-03\n",
      "Sequence 97: (1, 1, 0, 2, 2, 0, 0, 1), Probability: 5.0950e-02\n",
      "Sequence 98: (1, 2, 0, 1, 1, 1, 2), Probability: 6.8954e-03\n",
      "Sequence 99: (0, 2, 1, 0), Probability: 1.8744e-02\n"
     ]
    }
   ],
   "source": [
    "num_samples = 100\n",
    "sampled_dataset_probs = []\n",
    "for i in range(num_samples):\n",
    "    seq = train_dataset[i]\n",
    "    seq_prob = probs[train_sample_indices[i]]\n",
    "    sampled_dataset_probs.append(seq_prob)\n",
    "    print(f\"Sequence {i}: {seq}, Probability: {seq_prob:.4e}\")"
   ]
  },
  {
   "cell_type": "code",
   "execution_count": 65,
   "id": "1d01a70d",
   "metadata": {},
   "outputs": [
    {
     "name": "stderr",
     "output_type": "stream",
     "text": [
      "Length 1: 100%|██████████| 3/3 [00:00<00:00, 69136.88it/s]\n",
      "Length 2: 100%|██████████| 9/9 [00:00<00:00, 200791.15it/s]\n",
      "Length 3: 100%|██████████| 27/27 [00:00<00:00, 422560.48it/s]\n",
      "Length 4: 100%|██████████| 81/81 [00:00<00:00, 451780.09it/s]\n",
      "Length 5: 100%|██████████| 243/243 [00:00<00:00, 569712.62it/s]\n",
      "Length 6: 100%|██████████| 729/729 [00:00<00:00, 575611.37it/s]\n",
      "Length 7: 100%|██████████| 2187/2187 [00:00<00:00, 582335.12it/s]\n",
      "Length 8: 100%|██████████| 6561/6561 [00:00<00:00, 762590.16it/s]\n"
     ]
    },
    {
     "name": "stdout",
     "output_type": "stream",
     "text": [
      "Sequence: [2, 0, 1, 1, 2, 0, 2], Probability: 2.6218e-04, Actual Prob: 2.8546e-10\n",
      "Sequence: [0, 2, 1, 2, 1], Probability: 4.8346e-03, Actual Prob: 6.8954e-03\n",
      "Sequence: [0, 0, 2, 1, 2, 1], Probability: 8.9852e-04, Actual Prob: 7.7597e-10\n",
      "Sequence: [1, 2, 1, 2, 1, 1], Probability: 7.4060e-03, Actual Prob: 1.8744e-02\n",
      "Sequence: [1, 1, 2, 1, 1, 2, 1, 1], Probability: 1.8239e-03, Actual Prob: 3.5229e-14\n",
      "Sequence: [1, 1, 1, 0, 1, 0], Probability: 2.3555e-03, Actual Prob: 8.5096e-07\n",
      "Sequence: [2, 1, 1, 1, 2, 1, 2], Probability: 1.2633e-03, Actual Prob: 5.7337e-09\n",
      "Sequence: [1, 0, 1, 1, 1, 0], Probability: 1.5011e-03, Actual Prob: 4.6461e-05\n",
      "Sequence: [0, 0, 2, 1, 1, 0], Probability: 5.5800e-04, Actual Prob: 5.7337e-09\n",
      "Sequence: [2, 1, 1, 1, 2, 1], Probability: 6.9198e-03, Actual Prob: 5.7337e-09\n",
      "Sequence: [2, 1, 2], Probability: 4.6976e-02, Actual Prob: 1.7092e-05\n",
      "Sequence: [1, 2, 1, 1, 1, 1, 2, 2], Probability: 1.3176e-03, Actual Prob: 1.2629e-04\n",
      "Sequence: [2, 1, 2, 1, 1, 1, 2], Probability: 2.0155e-03, Actual Prob: 3.1305e-07\n",
      "Sequence: [1, 1, 1, 1, 1, 0, 2, 1], Probability: 7.1689e-04, Actual Prob: 2.1093e-09\n",
      "Sequence: [1, 2, 2, 2, 0, 2, 1, 0], Probability: 1.4347e-04, Actual Prob: 3.5229e-14\n",
      "Sequence: [0, 2, 0, 2, 1, 2], Probability: 6.0243e-04, Actual Prob: 3.1305e-07\n",
      "Sequence: [1, 0, 2, 1, 2, 1], Probability: 2.4534e-03, Actual Prob: 1.0502e-10\n",
      "Sequence: [2, 0, 0, 2, 0, 2, 1], Probability: 8.5193e-05, Actual Prob: 1.5994e-18\n",
      "Sequence: [1, 0, 1, 2, 1, 1, 1, 1], Probability: 1.1201e-03, Actual Prob: 4.2367e-08\n",
      "Sequence: [2, 2, 1, 1, 1, 2], Probability: 3.8209e-03, Actual Prob: 1.5586e-08\n",
      "Sequence: [1, 2, 2, 2, 2, 1, 2, 1], Probability: 2.1763e-04, Actual Prob: 7.7597e-10\n",
      "Sequence: [1, 1, 1, 2, 1, 0, 2, 1], Probability: 6.1362e-04, Actual Prob: 4.6461e-05\n",
      "Sequence: [1, 1, 1, 2, 1, 2], Probability: 7.3430e-03, Actual Prob: 6.2878e-06\n",
      "Sequence: [1, 2, 1, 1, 1, 1, 0, 1], Probability: 8.3755e-04, Actual Prob: 6.2878e-06\n",
      "Sequence: [1, 0, 1, 1, 1, 2, 1, 2], Probability: 6.4031e-04, Actual Prob: 1.9234e-12\n",
      "Sequence: [1, 1, 2, 2, 1, 2], Probability: 4.6101e-03, Actual Prob: 3.8633e-11\n",
      "Sequence: [1, 2, 0, 0, 1, 2, 2, 1], Probability: 1.7819e-04, Actual Prob: 5.2285e-12\n",
      "Sequence: [1, 1, 2, 0, 0, 1, 2], Probability: 3.4937e-04, Actual Prob: 1.5586e-08\n",
      "Sequence: [2, 2, 2, 1, 1, 2, 1], Probability: 8.2331e-04, Actual Prob: 2.6031e-13\n",
      "Sequence: [1, 1, 2, 1, 1, 2, 1], Probability: 2.4793e-03, Actual Prob: 1.2960e-14\n",
      "Sequence: [1, 2, 2, 1, 2, 0, 1], Probability: 1.0917e-03, Actual Prob: 1.5586e-08\n",
      "Sequence: [1, 2, 1, 0, 1], Probability: 9.4296e-03, Actual Prob: 1.7092e-05\n",
      "Sequence: [1, 2, 2, 1, 2, 1, 1, 0], Probability: 3.2844e-04, Actual Prob: 2.8546e-10\n",
      "Sequence: [1, 2, 1, 2, 2, 1, 1, 2], Probability: 1.6660e-03, Actual Prob: 1.1516e-07\n",
      "Sequence: [2, 1, 2, 1, 0, 0, 2], Probability: 2.7856e-04, Actual Prob: 2.6031e-13\n",
      "Sequence: [1, 0, 1, 1, 0, 1, 1], Probability: 7.4322e-04, Actual Prob: 2.6031e-13\n",
      "Sequence: [1, 2, 2, 2, 1], Probability: 5.8111e-03, Actual Prob: 6.2878e-06\n",
      "Sequence: [2, 0, 1, 2, 1, 2, 1], Probability: 6.4151e-04, Actual Prob: 9.5763e-14\n",
      "Sequence: [2, 2, 2, 1, 1, 2, 1, 2], Probability: 2.8439e-04, Actual Prob: 9.5763e-14\n",
      "Sequence: [2, 0, 0, 1, 1, 1, 2, 1], Probability: 3.2702e-04, Actual Prob: 1.9234e-12\n",
      "Sequence: [1, 1, 0, 1, 1, 1, 2], Probability: 1.5815e-03, Actual Prob: 1.7092e-05\n",
      "Sequence: [1, 1, 1, 1, 2, 2, 0, 0], Probability: 3.4078e-04, Actual Prob: 1.0502e-10\n",
      "Sequence: [1, 1, 0, 2, 0, 1, 1, 1], Probability: 4.2087e-04, Actual Prob: 4.2367e-08\n",
      "Sequence: [2, 0, 2, 2, 2, 2, 1, 2], Probability: 3.3668e-05, Actual Prob: 3.5229e-14\n",
      "Sequence: [1, 1, 1, 1, 2, 2, 1], Probability: 5.2749e-03, Actual Prob: 2.8546e-10\n",
      "Sequence: [2, 2, 0, 1, 0, 1, 1, 2], Probability: 1.3136e-04, Actual Prob: 5.7337e-09\n",
      "Sequence: [2, 2, 1, 1], Probability: 1.7404e-02, Actual Prob: 1.2629e-04\n",
      "Sequence: [2, 1, 1, 2, 1, 0, 2], Probability: 9.2009e-04, Actual Prob: 4.6461e-05\n",
      "Sequence: [1, 2, 0, 2, 1, 2, 0, 2], Probability: 1.1936e-04, Actual Prob: 8.5096e-07\n",
      "Sequence: [1, 1, 1, 0, 0], Probability: 2.8526e-03, Actual Prob: 1.7092e-05\n",
      "Sequence: [2, 2, 1, 2, 0, 2], Probability: 6.1592e-04, Actual Prob: 5.7337e-09\n",
      "Sequence: [2, 2, 2, 0, 1, 2, 1, 2], Probability: 5.3053e-05, Actual Prob: 1.0502e-10\n",
      "Sequence: [2, 2, 1, 1, 1, 2, 0, 1], Probability: 2.7823e-04, Actual Prob: 1.0502e-10\n",
      "Sequence: [1, 1, 1, 1, 1, 2, 1, 1], Probability: 1.7078e-03, Actual Prob: 1.0502e-10\n",
      "Sequence: [1, 2, 1, 1, 2, 1], Probability: 4.8429e-03, Actual Prob: 2.3131e-06\n",
      "Sequence: [2, 1, 2, 1, 1, 0, 1, 2], Probability: 3.1900e-04, Actual Prob: 9.5763e-14\n",
      "Sequence: [1, 2, 1, 2, 2, 0, 1, 1], Probability: 5.3489e-04, Actual Prob: 1.7092e-05\n",
      "Sequence: [0, 1, 1, 2, 1, 1, 1], Probability: 2.5849e-03, Actual Prob: 3.1305e-07\n",
      "Sequence: [2, 1, 1, 1, 1, 1, 2], Probability: 2.6072e-03, Actual Prob: 6.2878e-06\n",
      "Sequence: [1, 2, 1, 1, 0, 2, 1, 0], Probability: 2.2071e-04, Actual Prob: 9.5763e-14\n",
      "Sequence: [2, 1, 0, 1, 1], Probability: 7.1339e-03, Actual Prob: 8.5096e-07\n",
      "Sequence: [0, 1, 1, 2, 2, 1, 2, 0], Probability: 1.2122e-04, Actual Prob: 6.2878e-06\n",
      "Sequence: [2, 2, 1, 2, 1, 2], Probability: 1.4241e-03, Actual Prob: 1.1516e-07\n",
      "Sequence: [1, 2, 2, 1, 0, 0, 0, 0], Probability: 3.8920e-05, Actual Prob: 1.0502e-10\n",
      "Sequence: [1, 2, 1, 1, 1], Probability: 2.6058e-02, Actual Prob: 9.3319e-04\n",
      "Sequence: [2, 1, 1, 1, 2, 2, 2], Probability: 1.8091e-03, Actual Prob: 1.0502e-10\n",
      "Sequence: [1, 1, 2, 1, 1, 1], Probability: 1.0840e-02, Actual Prob: 1.1516e-07\n",
      "Sequence: [1, 0, 2, 2, 1, 1, 0], Probability: 4.3898e-04, Actual Prob: 5.7337e-09\n",
      "Sequence: [2, 1, 1, 1, 1, 1, 2, 1], Probability: 1.6451e-03, Actual Prob: 5.7337e-09\n",
      "Sequence: [1, 1, 1, 2, 1, 1, 0, 0], Probability: 2.2284e-04, Actual Prob: 3.4330e-04\n",
      "Sequence: [1, 2, 1, 0, 1, 2, 1], Probability: 1.1265e-03, Actual Prob: 7.7597e-10\n",
      "Sequence: [1, 2, 1, 2, 1, 0], Probability: 3.8896e-03, Actual Prob: 1.2629e-04\n",
      "Sequence: [1, 1, 0, 1, 1], Probability: 1.0875e-02, Actual Prob: 6.2878e-06\n",
      "Sequence: [2, 1, 1, 1, 2, 1, 2, 1], Probability: 1.0894e-03, Actual Prob: 5.2285e-12\n",
      "Sequence: [1, 2, 2, 2, 2, 2, 0, 2], Probability: 1.0058e-04, Actual Prob: 1.5586e-08\n",
      "Sequence: [2, 0, 2, 1, 1, 1, 1, 2], Probability: 4.1588e-04, Actual Prob: 1.2960e-14\n",
      "Sequence: [1, 1, 0, 2, 1, 2, 2], Probability: 8.8858e-04, Actual Prob: 8.5096e-07\n",
      "Sequence: [0, 0, 1, 1, 2, 1], Probability: 2.0328e-03, Actual Prob: 2.1093e-09\n",
      "Sequence: [1, 2, 0, 1, 1], Probability: 1.0121e-02, Actual Prob: 9.3319e-04\n",
      "Sequence: [1, 2, 1, 1, 2, 1, 2], Probability: 3.5636e-03, Actual Prob: 2.3131e-06\n",
      "Sequence: [1, 1, 2, 1, 1, 1, 1], Probability: 6.6536e-03, Actual Prob: 5.2285e-12\n",
      "Sequence: [1, 2, 1, 1, 1, 2], Probability: 6.1641e-03, Actual Prob: 1.1516e-07\n",
      "Sequence: [0, 1, 1, 2, 2, 1], Probability: 1.8454e-03, Actual Prob: 3.4330e-04\n",
      "Sequence: [1, 0, 1, 1, 0, 2, 2, 1], Probability: 2.0461e-04, Actual Prob: 6.4524e-16\n",
      "Sequence: [2, 1, 0, 1, 0, 1, 1, 2], Probability: 1.7243e-04, Actual Prob: 5.2285e-12\n",
      "Sequence: [1, 2, 2, 1, 1, 2, 1, 2], Probability: 4.5473e-04, Actual Prob: 3.5229e-14\n",
      "Sequence: [1, 1, 1, 1, 1, 1], Probability: 1.3035e-02, Actual Prob: 4.6461e-05\n",
      "Sequence: [2, 0, 2, 0, 1, 1, 0, 2], Probability: 5.0426e-05, Actual Prob: 2.6031e-13\n",
      "Sequence: [1, 2, 0, 1, 1, 1, 2], Probability: 1.0122e-03, Actual Prob: 6.8954e-03\n",
      "Sequence: [0, 1, 1, 2, 1, 1], Probability: 3.5466e-03, Actual Prob: 2.5367e-03\n",
      "Sequence: [1, 2, 0, 2, 1, 1, 0, 1], Probability: 2.3395e-04, Actual Prob: 3.4330e-04\n",
      "Sequence: [0, 2, 1, 1, 0, 0, 2, 2], Probability: 6.0103e-05, Actual Prob: 7.7597e-10\n",
      "Sequence: [1, 0, 2, 2, 1, 1, 2], Probability: 7.1154e-04, Actual Prob: 1.5586e-08\n",
      "Sequence: [1, 1, 1, 2, 1, 0], Probability: 5.3769e-03, Actual Prob: 6.8954e-03\n",
      "Sequence: [1, 2, 2, 1, 1, 0, 1, 0], Probability: 2.4380e-04, Actual Prob: 1.9234e-12\n",
      "Sequence: [1, 1, 1, 2, 0, 1, 2], Probability: 1.1328e-03, Actual Prob: 3.4330e-04\n",
      "Sequence: [2, 1, 2, 2, 1, 1, 1], Probability: 1.5079e-03, Actual Prob: 2.8546e-10\n",
      "Sequence: [1, 1, 1, 2, 2, 2, 1], Probability: 3.5967e-03, Actual Prob: 1.7092e-05\n",
      "Sequence: [1, 1, 1, 2, 1, 1], Probability: 1.3633e-02, Actual Prob: 1.8744e-02\n",
      "Sequence: [2, 2, 0, 2, 2, 1, 1], Probability: 2.8580e-04, Actual Prob: 6.2878e-06\n"
     ]
    }
   ],
   "source": [
    "sampled_sequences = []\n",
    "sampled_probs = []\n",
    "sampled_model_probs = []\n",
    "\n",
    "lengths = [len(seq) for seq in seqs]\n",
    "probs = np.exp(np.array(log_probs) - np.max(log_probs)) / np.sum(np.exp(np.array(log_probs) - np.max(log_probs)))\n",
    "lengths_arr = np.array(lengths)\n",
    "length_prob_mass = np.array([np.sum(probs[lengths_arr == l]) for l in range(1, L_max + 1)])\n",
    "length_prob_mass /= length_prob_mass.sum()\n",
    "\n",
    "model.eval()\n",
    "with torch.no_grad():\n",
    "    for _ in range(num_samples):\n",
    "        seq_len = np.random.choice(np.arange(1, L_max + 1), p=length_prob_mass)\n",
    "        ordering = np.random.permutation(seq_len)\n",
    "        seq = [A] * seq_len  # Start with all masked\n",
    "        model_prob = 1.0\n",
    "        for idx in ordering:\n",
    "            input_seq = torch.tensor([seq], dtype=torch.long).to(device)\n",
    "            logits_BLA = model(input_seq)[0, idx]\n",
    "            probs_token = torch.exp(logits_BLA)\n",
    "            token = torch.multinomial(probs_token, num_samples=1).item()\n",
    "            model_prob *= probs_token[token].item()\n",
    "            seq[idx] = token\n",
    "        sampled_sequences.append(seq)\n",
    "        sampled_model_probs.append(model_prob)\n",
    "        sampled_probs.append(prob(seq_to_str(seq), temperature=1.0))\n",
    "\n",
    "for seq, p_model, p_actual in zip(sampled_sequences, sampled_model_probs, sampled_probs):\n",
    "    print(f\"Sequence: {seq}, Probability: {p_model:.4e}, Actual Prob: {p_actual:.4e}\")"
   ]
  },
  {
   "cell_type": "code",
   "execution_count": 66,
   "id": "8b725465",
   "metadata": {},
   "outputs": [
    {
     "data": {
      "image/png": "[encoded data removed]",
      "text/plain": [
       "<Figure size 640x480 with 1 Axes>"
      ]
     },
     "metadata": {},
     "output_type": "display_data"
    }
   ],
   "source": [
    "plt.hist(np.log(sampled_dataset_probs), bins=50, alpha=0.5, label='Dataset Samples', density=True)\n",
    "plt.hist(np.log(sampled_probs), bins=50, alpha=0.5, label='Model Samples', density=True)\n",
    "plt.xlabel('Log Probability')\n",
    "plt.ylabel('Density')\n",
    "plt.legend()\n",
    "plt.show()"
   ]
  }
 ],
 "metadata": {
  "kernelspec": {
   "display_name": "consistency",
   "language": "python",
   "name": "python3"
  },
  "language_info": {
   "codemirror_mode": {
    "name": "ipython",
    "version": 3
   },
   "file_extension": ".py",
   "mimetype": "text/x-python",
   "name": "python",
   "nbconvert_exporter": "python",
   "pygments_lexer": "ipython3",
   "version": "3.12.11"
  }
 },
 "nbformat": 4,
 "nbformat_minor": 5
}
